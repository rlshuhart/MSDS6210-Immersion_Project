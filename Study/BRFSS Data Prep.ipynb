{
 "cells": [
  {
   "cell_type": "markdown",
   "metadata": {},
   "source": [
    "# Notebook for combining data of years 2012-2014"
   ]
  },
  {
   "cell_type": "code",
   "execution_count": 1,
   "metadata": {
    "collapsed": false
   },
   "outputs": [
    {
     "name": "stdout",
     "output_type": "stream",
     "text": [
      "Completed:  ..\\data\\sas Xport files\\LLCP2012.XPT\n",
      "Completed:  ..\\data\\sas Xport files\\LLCP2013.XPT\n",
      "Completed:  ..\\data\\sas Xport files\\LLCP2014.XPT\n",
      "<class 'pandas.core.frame.DataFrame'>\n",
      "Int64Index: 1432124 entries, 0 to 464663\n",
      "Data columns (total 34 columns):\n",
      "SEQNO       1432124 non-null float64\n",
      "_INCOMG     1432124 non-null float64\n",
      "_IMPRACE    1432124 non-null float64\n",
      "_AGE65YR    1432124 non-null float64\n",
      "_AGE_G      1432124 non-null float64\n",
      "GENHLTH     1432109 non-null float64\n",
      "PHYSHLTH    1432109 non-null float64\n",
      "MENTHLTH    1432114 non-null float64\n",
      "HLTHPLN1    1432122 non-null float64\n",
      "PERSDOC2    1432122 non-null float64\n",
      "MEDCOST     1432121 non-null float64\n",
      "MARITAL     1430329 non-null float64\n",
      "EDUCA       1429383 non-null float64\n",
      "CHECKUP1    1432121 non-null float64\n",
      "INCOME2     1426267 non-null float64\n",
      "SEX         1432124 non-null float64\n",
      "SMOKDAY2    622351 non-null float64\n",
      "EXERANY2    1400796 non-null float64\n",
      "CVDINFR4    1432122 non-null float64\n",
      "CVDCRHD4    1432124 non-null float64\n",
      "CVDSTRK3    1432124 non-null float64\n",
      "ASTHMA3     1432124 non-null float64\n",
      "ASTHNOW     189403 non-null float64\n",
      "CHCSCNCR    1432116 non-null float64\n",
      "CHCOCNCR    1432121 non-null float64\n",
      "CHCCOPD1    1432111 non-null float64\n",
      "HAVARTH3    1432119 non-null float64\n",
      "ADDEPEV2    1432121 non-null float64\n",
      "CHCKIDNY    1432120 non-null float64\n",
      "USEEQUIP    1402771 non-null float64\n",
      "SMOKE100    1395812 non-null float64\n",
      "STOPSMK2    218909 non-null float64\n",
      "LASTSMK2    402083 non-null float64\n",
      "USENOW3     1394410 non-null float64\n",
      "dtypes: float64(34)\n",
      "memory usage: 382.4 MB\n"
     ]
    }
   ],
   "source": [
    "import pandas as pd\n",
    "\n",
    "#SAS file locations\n",
    "sas_files = [\"..\\\\data\\\\sas Xport files\\\\LLCP2012.XPT\", \n",
    "             \"..\\\\data\\\\sas Xport files\\\\LLCP2013.XPT\",\n",
    "             \"..\\\\data\\\\sas Xport files\\\\LLCP2014.XPT\"]\n",
    "\n",
    "cols_to_read = ['SEQNO', '_INCOMG',  '_IMPRACE', '_AGE65YR', '_AGE_G', 'GENHLTH', 'PHYSHLTH',\n",
    "                'MENTHLTH', 'HLTHPLN1', 'PERSDOC2', 'MEDCOST', \n",
    "                'MARITAL', 'EDUCA', 'CHECKUP1', 'INCOME2', 'SEX', \n",
    "                'SMOKDAY2', 'EXERANY2', 'CVDINFR4', \n",
    "                'CVDCRHD4', 'CVDSTRK3',\n",
    "                'ASTHMA3', 'ASTHNOW', 'CHCSCNCR', 'CHCOCNCR', 'CHCCOPD1', \n",
    "                'HAVARTH3', 'ADDEPEV2', 'CHCKIDNY', 'USEEQUIP', 'SMOKE100',  \n",
    "                'STOPSMK2', 'LASTSMK2', 'USENOW3']\n",
    "\n",
    "# Removed below due to uncommon fields\n",
    "# ['_AGE80' 'PYSHLTH' 'EMPLOY1' 'SCNTMEL1' 'SXORIENT' 'TRNDGNDR'] not in index\n",
    "# ['SLEPTIM1' 'BLIND' 'DECIDE' 'DIFFWALK' 'DIFFDRES' 'DIFFALON' '_IMPMRTL'] not in index\n",
    "# \"['LASTDEN3' 'RMVTETH3'] not in index\"\n",
    "\n",
    "# Removed - not in draft:\n",
    "# 'RRCLASS2', 'RRATWRK2', 'RRHCARE3', 'RRPHYSM2', 'RREMTSM2',\n",
    "# 'AVEDRNK2', 'SCNTPAID', 'VETERAN3',\n",
    "\n",
    "df12_14 = pd.DataFrame()\n",
    "for sas_file in sas_files:\n",
    "    df = pd.read_sas(sas_file, encoding = \"ISO-8859-1\")\n",
    "    df12_14 = pd.concat([df12_14, df[cols_to_read]])\n",
    "    print(\"Completed: \", sas_file)\n",
    "    del df\n",
    "\n",
    "df12_14.info()"
   ]
  },
  {
   "cell_type": "code",
   "execution_count": 2,
   "metadata": {
    "collapsed": false
   },
   "outputs": [
    {
     "name": "stdout",
     "output_type": "stream",
     "text": [
      "creating archive\n",
      "adding brfss2012_2014.csv\n",
      "closing\n"
     ]
    }
   ],
   "source": [
    "# Write large csv first\n",
    "df12_14.to_csv('.\\\\data\\\\brfss2012_2014.csv', index=False)\n",
    "\n",
    "# Compress large csv in zip file to allow efficient sharing of data\n",
    "import zipfile, zlib\n",
    "\n",
    "print('creating archive')\n",
    "zf = zipfile.ZipFile('.\\\\data\\\\brfss2012_2014.zip', mode='w')\n",
    "try:\n",
    "    print('adding brfss2012_2014.csv')\n",
    "    zf.write('.\\\\data\\\\brfss2012_2014.csv',  compress_type=zipfile.ZIP_DEFLATED)\n",
    "finally:\n",
    "    print('closing')\n",
    "    zf.close()\n",
    "\n",
    "\n",
    "# Test\n",
    "# df = pd.read_csv('.\\\\data\\\\brfss2012_2014.zip', encoding = \"ISO-8859-1\", compression='zip')\n",
    "# print(df.shape)\n",
    "# df.head()"
   ]
  },
  {
   "cell_type": "code",
   "execution_count": null,
   "metadata": {
    "collapsed": false
   },
   "outputs": [],
   "source": []
  }
 ],
 "metadata": {
  "kernelspec": {
   "display_name": "Python 3",
   "language": "python",
   "name": "python3"
  },
  "language_info": {
   "codemirror_mode": {
    "name": "ipython",
    "version": 3
   },
   "file_extension": ".py",
   "mimetype": "text/x-python",
   "name": "python",
   "nbconvert_exporter": "python",
   "pygments_lexer": "ipython3",
   "version": "3.5.1"
  }
 },
 "nbformat": 4,
 "nbformat_minor": 0
}
