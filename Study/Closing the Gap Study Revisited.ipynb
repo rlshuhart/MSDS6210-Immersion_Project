{
 "cells": [
  {
   "cell_type": "markdown",
   "metadata": {},
   "source": [
    "# Closing the Gap Study Revisited\n",
    "By: Andrew Clark, Rahn Lieberman, Ryan Shuhart, Thomas Rogers"
   ]
  },
  {
   "cell_type": "markdown",
   "metadata": {},
   "source": [
    "The below is from how the orginal study in \"Closing the Gap: Reducing Racial and Ethnic Disparities\" was conducted:\n",
    "\n",
    "   This brief draws on the 2012–2013 Behavioral Risk Factor Surveillance System (BRFSS), an annual survey conducted by the Centers for Disease Control and Prevention in partnership with state governments. The surveys included landline and cellular telephone interviews with more than 400,000 adults age 18 and older across all 50 states. In performing our analysis, we combined two years of data to ensure an adequate sample size in each of the socioeconomic strata, including income, race and ethnicity, and insurance status. <font color=\"red\">We restricted our analysis to adults under age 65. </font>\n",
    "   BRFSS asks adults whether they did not visit a doctor when needed within the previous 12 months because of costs, and whether they have one or more than one person they think of as their personal doctor or health care provider.\n",
    "    Our analysis classifies respondents’ socioeconomic (SES) characteristics as follows:\n",
    "    \n",
    "    • Race/ethnicity: white (non-Hispanic), black (non-Hispanic), or Hispanic (any race).\n",
    "    • Income in three income groups:\n",
    "      1. Low income: below 200 percent of the federal poverty level (income in 2012 of less than $22,340 if single, or \n",
    "      less than $46,100 for a family of four).\n",
    "      2. Middle income: 200 percent to 399 percent of poverty (income in 2012 of $22,340 up to $44,680 if single, or \n",
    "      $46,100 to $92,200 for a family of four).\n",
    "      3. Higher income: 400 percent of poverty or higher (income in 2012 at or above $44,680 if single, or $92,200 for \n",
    "      a family of four).\n",
    "    • Insurance status: insured or not at the time of the questionnaire.\n",
    "    \n",
    "        Exhibit 2 reports unadjusted point estimates, stratified by race/ethnicity. Exhibits 3 and 4 report adjusted means, to account for differences in respondents’ age, sex, income, and health status. We adjusted estimates using survey-design adjusted logistic regressions in Stata (v.12.1).\n",
    "    \n",
    "        Unadjusted point estimates were still subject to uncertainty because of the sample design. Each estimate has survey design–adjusted 95 percent confidence intervals of about 1 to 2 percentage points. Statistical significance associated with SES-adjusted point estimates is noted in Exhibits 3 and 4."
   ]
  },
  {
   "cell_type": "markdown",
   "metadata": {},
   "source": [
    "## Question of Interest\n",
    "\"Would You Say in General That Your Health is: (1) excellent, (2) very good, (3) good, (4) fair, (5) poor.\" Choices 7 and 9 were \"unsure\" and \"not asked\", respectively. This is in the GENHLTH variable."
   ]
  },
  {
   "cell_type": "code",
   "execution_count": 17,
   "metadata": {
    "collapsed": true
   },
   "outputs": [],
   "source": [
    "# Python Modules\n",
    "import pandas as pd\n",
    "import numpy as np\n",
    "import matplotlib.pyplot as plt\n",
    "import seaborn as sns\n",
    "\n",
    "# plot graphs in the notebook\n",
    "\n",
    "%matplotlib inline"
   ]
  },
  {
   "cell_type": "code",
   "execution_count": 2,
   "metadata": {
    "collapsed": false
   },
   "outputs": [
    {
     "name": "stdout",
     "output_type": "stream",
     "text": [
      "Starting length is 1432124 \n",
      "<class 'pandas.core.frame.DataFrame'>\n",
      "Int64Index: 867987 entries, 0 to 1432123\n",
      "Data columns (total 44 columns):\n",
      "SEQNO       867987 non-null float64\n",
      "_INCOMG     867987 non-null float64\n",
      "_IMPRACE    867987 non-null float64\n",
      "_AGE65YR    867987 non-null float64\n",
      "_AGE_G      867987 non-null float64\n",
      "GENHLTH     867987 non-null float64\n",
      "PHYSHLTH    867981 non-null float64\n",
      "MENTHLTH    867981 non-null float64\n",
      "HLTHPLN1    867987 non-null float64\n",
      "PERSDOC2    867986 non-null float64\n",
      "MEDCOST     867984 non-null float64\n",
      "VETERAN3    867407 non-null float64\n",
      "MARITAL     866953 non-null float64\n",
      "EDUCA       866406 non-null float64\n",
      "CHECKUP1    867985 non-null float64\n",
      "INCOME2     864423 non-null float64\n",
      "SEX         867987 non-null float64\n",
      "SMOKDAY2    359144 non-null float64\n",
      "AVEDRNK2    464822 non-null float64\n",
      "RRCLASS2    32989 non-null float64\n",
      "RRATWRK2    24131 non-null float64\n",
      "RRHCARE3    32917 non-null float64\n",
      "RRPHYSM2    32889 non-null float64\n",
      "RREMTSM2    32873 non-null float64\n",
      "EXERANY2    848814 non-null float64\n",
      "CVDINFR4    867985 non-null float64\n",
      "CVDCRHD4    867987 non-null float64\n",
      "CVDSTRK3    867987 non-null float64\n",
      "SCNTPAID    53555 non-null float64\n",
      "ASTHMA3     867987 non-null float64\n",
      "ASTHNOW     120875 non-null float64\n",
      "CHCSCNCR    867983 non-null float64\n",
      "CHCOCNCR    867987 non-null float64\n",
      "CHCCOPD1    867981 non-null float64\n",
      "HAVARTH3    867984 non-null float64\n",
      "ADDEPEV2    867985 non-null float64\n",
      "CHCKIDNY    867983 non-null float64\n",
      "USEEQUIP    851069 non-null float64\n",
      "SMOKE100    847083 non-null float64\n",
      "STOPSMK2    161152 non-null float64\n",
      "LASTSMK2    197171 non-null float64\n",
      "USENOW3     846261 non-null float64\n",
      "_Health     867987 non-null float64\n",
      "Rec_Year    867987 non-null int32\n",
      "dtypes: float64(43), int32(1)\n",
      "memory usage: 294.7 MB\n"
     ]
    }
   ],
   "source": [
    "# Ryan import\n",
    "#brfss = pd.read_csv('.\\\\data\\\\brfss2012_2014.zip', encoding = \"ISO-8859-1\", compression='zip')\n",
    "\n",
    "# Andrew work import:\n",
    "brfss = pd.read_csv('C:\\\\Users\\\\aclark\\\\Desktop\\\\SMU\\\\MSDS6210-Immersion_Project\\\\Study\\\\data\\\\brfss2012_2014.csv', encoding = \"ISO-8859-1\")\n",
    "\n",
    "print(\"Starting length is %.f \" % len(brfss))\n",
    "\n",
    "# Age 18 to 64 - Excludes 65 or older, refused, or missing\n",
    "brfss = brfss[brfss['_AGE65YR'] == 1] \n",
    "\n",
    "# Exclude blank, 'Don't know', 'Not Sure', or 'Refused'\n",
    "brfss = brfss[((brfss['GENHLTH'].notnull()) & (~brfss['GENHLTH'].isin([7,9])))] \n",
    "\n",
    "# Reduce Ethnicity to White, Black, or Hispanic (ex. Asian 2%, American Indian/Alaskan Native 1.55%, other 2.8%)\n",
    "brfss = brfss[brfss['_IMPRACE'].isin([1,2,5])]\n",
    "# Has Health plan --Excludes 'Don't know', 'Not Sure', or 'Refused'. drops .6%\n",
    "brfss = brfss[brfss['HLTHPLN1'].isin([1,2])]\n",
    "\n",
    "# Translate GENHLTH to binary classification of\n",
    "# Combining the “excellent”, “very good” and “good” responses as measures of “good or better” (1) health \n",
    "# and the “fair” and “poor” measures as “fair and poor” (0).\n",
    "brfss.loc[(brfss['GENHLTH'] < 4), '_Health'] = 1\n",
    "brfss.loc[(brfss['GENHLTH'] >= 4), '_Health'] = 0\n",
    "\n",
    "# Extract survey year from sequence. IYEAR sometimes went into the next year. \n",
    "# This is one way to put designate the year of the data publication\n",
    "brfss['Rec_Year'] = brfss['SEQNO'].astype(str).str[:4].astype(int)\n",
    "\n",
    "brfss.info()"
   ]
  },
  {
   "cell_type": "code",
   "execution_count": 4,
   "metadata": {
    "collapsed": false
   },
   "outputs": [],
   "source": [
    "# grouping race, health and year data into the same dataframe\n",
    "\n",
    "df_race_hlth_yr = brfss.groupby(['_IMPRACE', '_Health','Rec_Year'])\n",
    "df_race_yr = brfss.groupby(['_IMPRACE', 'Rec_Year'])\n",
    "\n",
    "df_yr_hlth_race = brfss.groupby(['Rec_Year', '_Health','_IMPRACE'])\n",
    "df_yr_race = brfss.groupby(['Rec_Year','_IMPRACE'])\n",
    "\n",
    "df_yr_race_hlth = brfss.groupby(['Rec_Year', '_IMPRACE', '_Health'])\n",
    "df_yr_hlth = brfss.groupby(['Rec_Year','_Health'])\n",
    "\n",
    "df_hlth_yr = brfss.groupby(['Rec_Year','_Health'])\n",
    "df_yr = brfss.groupby(['Rec_Year'])"
   ]
  },
  {
   "cell_type": "code",
   "execution_count": 5,
   "metadata": {
    "collapsed": false
   },
   "outputs": [
    {
     "data": {
      "text/plain": [
       "Rec_Year  _Health\n",
       "2012      0.0        0.164759\n",
       "          1.0        0.835241\n",
       "2013      0.0        0.164321\n",
       "          1.0        0.835679\n",
       "2014      0.0        0.159109\n",
       "          1.0        0.840891\n",
       "Name: Count, dtype: float64"
      ]
     },
     "execution_count": 5,
     "metadata": {},
     "output_type": "execute_result"
    }
   ],
   "source": [
    "#brfss.groupby(['Rec_Year','_Health']).size().unstack()\n",
    "# df_hlth_yr['Count'].last() / df_hlth_yr['Count'].sum()\n",
    "df_hlth_yr_grouped = pd.DataFrame({'Count':brfss.groupby(['Rec_Year','_Health']).size()}).reset_index()\n",
    "df_hlth_yr_counts = df_hlth_yr_grouped.groupby(['Rec_Year','_Health'])\n",
    "df_hlth_yr_totals = df_hlth_yr_grouped.groupby(['Rec_Year'])\n",
    "df_hlth_yr_counts['Count'].sum() / df_hlth_yr_totals['Count'].sum()"
   ]
  },
  {
   "cell_type": "code",
   "execution_count": 10,
   "metadata": {
    "collapsed": false
   },
   "outputs": [
    {
     "name": "stdout",
     "output_type": "stream",
     "text": [
      "    _IMPRACE  _Health  Rec_Year  Prop\n",
      "0        1.0      0.0      2012  14.3\n",
      "1        1.0      0.0      2013  14.4\n",
      "2        1.0      0.0      2014  14.0\n",
      "3        1.0      1.0      2012  85.7\n",
      "4        1.0      1.0      2013  85.6\n",
      "5        1.0      1.0      2014  86.0\n",
      "6        2.0      0.0      2012  23.9\n",
      "7        2.0      0.0      2013  23.7\n",
      "8        2.0      0.0      2014  22.7\n",
      "9        2.0      1.0      2012  76.1\n",
      "10       2.0      1.0      2013  76.3\n",
      "11       2.0      1.0      2014  77.3\n",
      "12       5.0      0.0      2012  26.1\n",
      "13       5.0      0.0      2013  25.5\n",
      "14       5.0      0.0      2014  25.1\n",
      "15       5.0      1.0      2012  73.9\n",
      "16       5.0      1.0      2013  74.5\n",
      "17       5.0      1.0      2014  74.9\n"
     ]
    },
    {
     "data": {
      "text/plain": [
       "<seaborn.axisgrid.FacetGrid at 0x29d07fd0>"
      ]
     },
     "execution_count": 10,
     "metadata": {},
     "output_type": "execute_result"
    },
    {
     "data": {
      "image/png": "[encoded data removed]",
      "text/plain": [
       "<matplotlib.figure.Figure at 0x29ceaf60>"
      ]
     },
     "metadata": {},
     "output_type": "display_data"
    }
   ],
   "source": [
    "x = pd.DataFrame({'Prop':((df_race_hlth_yr.size().unstack() / df_race_yr.size().unstack())*100).stack()}).reset_index()\n",
    "print(x)\n",
    "sns.factorplot(x=\"_IMPRACE\", y=\"Prop\", hue=\"_Health\", data=x[x['Rec_Year']==2014],\n",
    "                    size=6, kind=\"bar\", palette=\"muted\")"
   ]
  },
  {
   "cell_type": "code",
   "execution_count": 11,
   "metadata": {
    "collapsed": false
   },
   "outputs": [
    {
     "name": "stdout",
     "output_type": "stream",
     "text": [
      "Proportion of Uninsured to Insured by Race and Year\n",
      "_IMPRACE  _Health  Rec_Year\n",
      "1.0       0.0      2012        14.3\n",
      "                   2013        14.4\n",
      "                   2014        14.0\n",
      "          1.0      2012        85.7\n",
      "                   2013        85.6\n",
      "                   2014        86.0\n",
      "2.0       0.0      2012        23.9\n",
      "                   2013        23.7\n",
      "                   2014        22.7\n",
      "          1.0      2012        76.1\n",
      "                   2013        76.3\n",
      "                   2014        77.3\n",
      "5.0       0.0      2012        26.1\n",
      "                   2013        25.5\n",
      "                   2014        25.1\n",
      "          1.0      2012        73.9\n",
      "                   2013        74.5\n",
      "                   2014        74.9\n",
      "dtype: float64\n"
     ]
    },
    {
     "ename": "ValueError",
     "evalue": "Could not interpret input '_IMPRACE'",
     "output_type": "error",
     "traceback": [
      "\u001b[1;31m---------------------------------------------------------------------------\u001b[0m",
      "\u001b[1;31mValueError\u001b[0m                                Traceback (most recent call last)",
      "\u001b[1;32m<ipython-input-11-d5068dc5035b>\u001b[0m in \u001b[0;36m<module>\u001b[1;34m()\u001b[0m\n\u001b[0;32m      8\u001b[0m \u001b[1;31m#race_yr_prop.stack().plot(kind='bar')\u001b[0m\u001b[1;33m\u001b[0m\u001b[1;33m\u001b[0m\u001b[0m\n\u001b[0;32m      9\u001b[0m sns.factorplot(x=\"_IMPRACE\", y=\"survived\", hue=\"_Health\", data=race_yr_prop.stack(),\n\u001b[1;32m---> 10\u001b[1;33m                    size=6, kind=\"bar\", palette=\"muted\")\n\u001b[0m",
      "\u001b[1;32mc:\\users\\aclark\\appdata\\local\\continuum\\anaconda2\\lib\\site-packages\\seaborn\\categorical.pyc\u001b[0m in \u001b[0;36mfactorplot\u001b[1;34m(x, y, hue, data, row, col, col_wrap, estimator, ci, n_boot, units, order, hue_order, row_order, col_order, kind, size, aspect, orient, color, palette, legend, legend_out, sharex, sharey, margin_titles, facet_kws, **kwargs)\u001b[0m\n\u001b[0;32m   3326\u001b[0m     \u001b[1;31m# facets to ensure representation of all data in the final plot\u001b[0m\u001b[1;33m\u001b[0m\u001b[1;33m\u001b[0m\u001b[0m\n\u001b[0;32m   3327\u001b[0m     \u001b[0mp\u001b[0m \u001b[1;33m=\u001b[0m \u001b[0m_CategoricalPlotter\u001b[0m\u001b[1;33m(\u001b[0m\u001b[1;33m)\u001b[0m\u001b[1;33m\u001b[0m\u001b[0m\n\u001b[1;32m-> 3328\u001b[1;33m     \u001b[0mp\u001b[0m\u001b[1;33m.\u001b[0m\u001b[0mestablish_variables\u001b[0m\u001b[1;33m(\u001b[0m\u001b[0mx_\u001b[0m\u001b[1;33m,\u001b[0m \u001b[0my_\u001b[0m\u001b[1;33m,\u001b[0m \u001b[0mhue\u001b[0m\u001b[1;33m,\u001b[0m \u001b[0mdata\u001b[0m\u001b[1;33m,\u001b[0m \u001b[0morient\u001b[0m\u001b[1;33m,\u001b[0m \u001b[0morder\u001b[0m\u001b[1;33m,\u001b[0m \u001b[0mhue_order\u001b[0m\u001b[1;33m)\u001b[0m\u001b[1;33m\u001b[0m\u001b[0m\n\u001b[0m\u001b[0;32m   3329\u001b[0m     \u001b[0morder\u001b[0m \u001b[1;33m=\u001b[0m \u001b[0mp\u001b[0m\u001b[1;33m.\u001b[0m\u001b[0mgroup_names\u001b[0m\u001b[1;33m\u001b[0m\u001b[0m\n\u001b[0;32m   3330\u001b[0m     \u001b[0mhue_order\u001b[0m \u001b[1;33m=\u001b[0m \u001b[0mp\u001b[0m\u001b[1;33m.\u001b[0m\u001b[0mhue_names\u001b[0m\u001b[1;33m\u001b[0m\u001b[0m\n",
      "\u001b[1;32mc:\\users\\aclark\\appdata\\local\\continuum\\anaconda2\\lib\\site-packages\\seaborn\\categorical.pyc\u001b[0m in \u001b[0;36mestablish_variables\u001b[1;34m(self, x, y, hue, data, orient, order, hue_order, units)\u001b[0m\n\u001b[0;32m    145\u001b[0m                 \u001b[1;32mif\u001b[0m \u001b[0misinstance\u001b[0m\u001b[1;33m(\u001b[0m\u001b[0minput\u001b[0m\u001b[1;33m,\u001b[0m \u001b[0mstring_types\u001b[0m\u001b[1;33m)\u001b[0m\u001b[1;33m:\u001b[0m\u001b[1;33m\u001b[0m\u001b[0m\n\u001b[0;32m    146\u001b[0m                     \u001b[0merr\u001b[0m \u001b[1;33m=\u001b[0m \u001b[1;34m\"Could not interpret input '{}'\"\u001b[0m\u001b[1;33m.\u001b[0m\u001b[0mformat\u001b[0m\u001b[1;33m(\u001b[0m\u001b[0minput\u001b[0m\u001b[1;33m)\u001b[0m\u001b[1;33m\u001b[0m\u001b[0m\n\u001b[1;32m--> 147\u001b[1;33m                     \u001b[1;32mraise\u001b[0m \u001b[0mValueError\u001b[0m\u001b[1;33m(\u001b[0m\u001b[0merr\u001b[0m\u001b[1;33m)\u001b[0m\u001b[1;33m\u001b[0m\u001b[0m\n\u001b[0m\u001b[0;32m    148\u001b[0m \u001b[1;33m\u001b[0m\u001b[0m\n\u001b[0;32m    149\u001b[0m             \u001b[1;31m# Figure out the plotting orientation\u001b[0m\u001b[1;33m\u001b[0m\u001b[1;33m\u001b[0m\u001b[0m\n",
      "\u001b[1;31mValueError\u001b[0m: Could not interpret input '_IMPRACE'"
     ]
    }
   ],
   "source": [
    "\n",
    "# Set option to show one decimal place\n",
    "pd.set_option('precision',1)\n",
    "print(\"Proportion of Uninsured to Insured by Race and Year\")\n",
    "race_yr_prop = (df_race_hlth_yr.size().unstack() / df_race_yr.size().unstack())*100#.transpose().plot()\n",
    "print(race_yr_prop.stack())\n",
    "#race_yr_prop.transpose().plot(kind='bar')\n",
    "#race_yr_prop.stack().plot(kind='bar')\n",
    "sns.factorplot(x=\"_IMPRACE\", y=\"survived\", hue=\"_Health\", data=race_yr_prop.stack(),\n",
    "                   size=6, kind=\"bar\", palette=\"muted\")"
   ]
  },
  {
   "cell_type": "code",
   "execution_count": 12,
   "metadata": {
    "collapsed": false
   },
   "outputs": [
    {
     "name": "stdout",
     "output_type": "stream",
     "text": [
      "Proportion of Uninsured to Insured by Race and Year\n",
      "_IMPRACE           1.0   2.0   5.0\n",
      "Rec_Year _Health                  \n",
      "2012     0.0      14.3  23.9  26.1\n",
      "         1.0      85.7  76.1  73.9\n",
      "2013     0.0      14.4  23.7  25.5\n",
      "         1.0      85.6  76.3  74.5\n",
      "2014     0.0      14.0  22.7  25.1\n",
      "         1.0      86.0  77.3  74.9\n"
     ]
    },
    {
     "data": {
      "text/plain": [
       "<matplotlib.axes._subplots.AxesSubplot at 0x1b128b70>"
      ]
     },
     "execution_count": 12,
     "metadata": {},
     "output_type": "execute_result"
    },
    {
     "data": {
      "image/png": "[encoded data removed]",
      "text/plain": [
       "<matplotlib.figure.Figure at 0xa8c44a8>"
      ]
     },
     "metadata": {},
     "output_type": "display_data"
    }
   ],
   "source": [
    "# Set option to show one decimal place\n",
    "pd.set_option('precision',1)\n",
    "print(\"Proportion of Uninsured to Insured by Race and Year\")\n",
    "yr_race_prop = (df_yr_hlth_race.size().unstack() / df_yr_race.size().unstack())*100#.transpose().plot()\n",
    "print(yr_race_prop)\n",
    "yr_race_prop.transpose().plot(kind='bar')"
   ]
  },
  {
   "cell_type": "code",
   "execution_count": 13,
   "metadata": {
    "collapsed": false
   },
   "outputs": [
    {
     "name": "stdout",
     "output_type": "stream",
     "text": [
      "Proportion of Uninsured to Insured by Race and Year\n",
      "_Health             0.0   1.0\n",
      "Rec_Year _IMPRACE            \n",
      "2012     1.0       69.6  82.0\n",
      "         2.0       14.7   9.2\n",
      "         5.0       15.7   8.8\n",
      "2013     1.0       70.6  82.3\n",
      "         2.0       13.8   8.7\n",
      "         5.0       15.7   9.0\n",
      "2014     1.0       70.6  82.3\n",
      "         2.0       13.0   8.4\n",
      "         5.0       16.4   9.3\n"
     ]
    },
    {
     "data": {
      "text/plain": [
       "<matplotlib.axes._subplots.AxesSubplot at 0x29cdf780>"
      ]
     },
     "execution_count": 13,
     "metadata": {},
     "output_type": "execute_result"
    },
    {
     "data": {
      "image/png": "[encoded data removed]",
      "text/plain": [
       "<matplotlib.figure.Figure at 0x1b146e48>"
      ]
     },
     "metadata": {},
     "output_type": "display_data"
    }
   ],
   "source": [
    "# Set option to show one decimal place\n",
    "pd.set_option('precision',1)\n",
    "print(\"Proportion of Uninsured to Insured by Race and Year\")\n",
    "yr_race_prop = (df_yr_race_hlth.size().unstack() / df_yr_hlth.size().unstack())*100#.transpose().plot()\n",
    "print(yr_race_prop)\n",
    "yr_race_prop.transpose().plot(kind='bar')"
   ]
  },
  {
   "cell_type": "code",
   "execution_count": 14,
   "metadata": {
    "collapsed": false
   },
   "outputs": [
    {
     "data": {
      "text/html": [
       "<div>\n",
       "<table border=\"1\" class=\"dataframe\">\n",
       "  <thead>\n",
       "    <tr style=\"text-align: right;\">\n",
       "      <th></th>\n",
       "      <th>Rec_Year</th>\n",
       "      <th>2012</th>\n",
       "      <th>2013</th>\n",
       "      <th>2014</th>\n",
       "    </tr>\n",
       "    <tr>\n",
       "      <th>_IMPRACE</th>\n",
       "      <th>_Health</th>\n",
       "      <th></th>\n",
       "      <th></th>\n",
       "      <th></th>\n",
       "    </tr>\n",
       "  </thead>\n",
       "  <tbody>\n",
       "    <tr>\n",
       "      <th rowspan=\"2\" valign=\"top\">1.0</th>\n",
       "      <th>0.0</th>\n",
       "      <td>33583</td>\n",
       "      <td>34795</td>\n",
       "      <td>30904</td>\n",
       "    </tr>\n",
       "    <tr>\n",
       "      <th>1.0</th>\n",
       "      <td>200572</td>\n",
       "      <td>206364</td>\n",
       "      <td>190581</td>\n",
       "    </tr>\n",
       "    <tr>\n",
       "      <th rowspan=\"2\" valign=\"top\">2.0</th>\n",
       "      <th>0.0</th>\n",
       "      <td>7083</td>\n",
       "      <td>6784</td>\n",
       "      <td>5711</td>\n",
       "    </tr>\n",
       "    <tr>\n",
       "      <th>1.0</th>\n",
       "      <td>22496</td>\n",
       "      <td>21831</td>\n",
       "      <td>19429</td>\n",
       "    </tr>\n",
       "    <tr>\n",
       "      <th rowspan=\"2\" valign=\"top\">5.0</th>\n",
       "      <th>0.0</th>\n",
       "      <td>7561</td>\n",
       "      <td>7718</td>\n",
       "      <td>7183</td>\n",
       "    </tr>\n",
       "    <tr>\n",
       "      <th>1.0</th>\n",
       "      <td>21418</td>\n",
       "      <td>22512</td>\n",
       "      <td>21462</td>\n",
       "    </tr>\n",
       "  </tbody>\n",
       "</table>\n",
       "</div>"
      ],
      "text/plain": [
       "Rec_Year            2012    2013    2014\n",
       "_IMPRACE _Health                        \n",
       "1.0      0.0       33583   34795   30904\n",
       "         1.0      200572  206364  190581\n",
       "2.0      0.0        7083    6784    5711\n",
       "         1.0       22496   21831   19429\n",
       "5.0      0.0        7561    7718    7183\n",
       "         1.0       21418   22512   21462"
      ]
     },
     "execution_count": 14,
     "metadata": {},
     "output_type": "execute_result"
    }
   ],
   "source": [
    "df_race_hlth_yr.size().unstack()"
   ]
  },
  {
   "cell_type": "code",
   "execution_count": 15,
   "metadata": {
    "collapsed": false
   },
   "outputs": [
    {
     "data": {
      "text/html": [
       "<div>\n",
       "<table border=\"1\" class=\"dataframe\">\n",
       "  <thead>\n",
       "    <tr style=\"text-align: right;\">\n",
       "      <th>Rec_Year</th>\n",
       "      <th>2012</th>\n",
       "      <th>2013</th>\n",
       "      <th>2014</th>\n",
       "    </tr>\n",
       "    <tr>\n",
       "      <th>_Health</th>\n",
       "      <th></th>\n",
       "      <th></th>\n",
       "      <th></th>\n",
       "    </tr>\n",
       "  </thead>\n",
       "  <tbody>\n",
       "    <tr>\n",
       "      <th>0.0</th>\n",
       "      <td>48227</td>\n",
       "      <td>49297</td>\n",
       "      <td>43798</td>\n",
       "    </tr>\n",
       "    <tr>\n",
       "      <th>1.0</th>\n",
       "      <td>244486</td>\n",
       "      <td>250707</td>\n",
       "      <td>231472</td>\n",
       "    </tr>\n",
       "  </tbody>\n",
       "</table>\n",
       "</div>"
      ],
      "text/plain": [
       "Rec_Year    2012    2013    2014\n",
       "_Health                         \n",
       "0.0        48227   49297   43798\n",
       "1.0       244486  250707  231472"
      ]
     },
     "execution_count": 15,
     "metadata": {},
     "output_type": "execute_result"
    }
   ],
   "source": [
    "brfss.groupby(['_Health','Rec_Year']).size().unstack()"
   ]
  },
  {
   "cell_type": "code",
   "execution_count": 16,
   "metadata": {
    "collapsed": false
   },
   "outputs": [
    {
     "data": {
      "text/html": [
       "<div>\n",
       "<table border=\"1\" class=\"dataframe\">\n",
       "  <thead>\n",
       "    <tr style=\"text-align: right;\">\n",
       "      <th>Rec_Year</th>\n",
       "      <th>2012</th>\n",
       "      <th>2013</th>\n",
       "      <th>2014</th>\n",
       "    </tr>\n",
       "    <tr>\n",
       "      <th>_IMPRACE</th>\n",
       "      <th></th>\n",
       "      <th></th>\n",
       "      <th></th>\n",
       "    </tr>\n",
       "  </thead>\n",
       "  <tbody>\n",
       "    <tr>\n",
       "      <th>1.0</th>\n",
       "      <td>234155</td>\n",
       "      <td>241159</td>\n",
       "      <td>221485</td>\n",
       "    </tr>\n",
       "    <tr>\n",
       "      <th>2.0</th>\n",
       "      <td>29579</td>\n",
       "      <td>28615</td>\n",
       "      <td>25140</td>\n",
       "    </tr>\n",
       "    <tr>\n",
       "      <th>5.0</th>\n",
       "      <td>28979</td>\n",
       "      <td>30230</td>\n",
       "      <td>28645</td>\n",
       "    </tr>\n",
       "  </tbody>\n",
       "</table>\n",
       "</div>"
      ],
      "text/plain": [
       "Rec_Year    2012    2013    2014\n",
       "_IMPRACE                        \n",
       "1.0       234155  241159  221485\n",
       "2.0        29579   28615   25140\n",
       "5.0        28979   30230   28645"
      ]
     },
     "execution_count": 16,
     "metadata": {},
     "output_type": "execute_result"
    }
   ],
   "source": [
    "brfss.groupby(['_IMPRACE','Rec_Year']).size().unstack()"
   ]
  },
  {
   "cell_type": "markdown",
   "metadata": {},
   "source": [
    "## Logistic Regression Model "
   ]
  },
  {
   "cell_type": "code",
   "execution_count": 26,
   "metadata": {
    "collapsed": false
   },
   "outputs": [
    {
     "ename": "AttributeError",
     "evalue": "'DataFrame' object has no attribute '_Health'",
     "output_type": "error",
     "traceback": [
      "\u001b[1;31m---------------------------------------------------------------------------\u001b[0m",
      "\u001b[1;31mAttributeError\u001b[0m                            Traceback (most recent call last)",
      "\u001b[1;32m<ipython-input-26-6717d073719e>\u001b[0m in \u001b[0;36m<module>\u001b[1;34m()\u001b[0m\n\u001b[0;32m      1\u001b[0m \u001b[1;31m# resonse variable of interest\u001b[0m\u001b[1;33m\u001b[0m\u001b[1;33m\u001b[0m\u001b[0m\n\u001b[1;32m----> 2\u001b[1;33m \u001b[0mbrfss\u001b[0m\u001b[1;33m.\u001b[0m\u001b[0m_Health\u001b[0m\u001b[1;33m.\u001b[0m\u001b[0mhead\u001b[0m\u001b[1;33m(\u001b[0m\u001b[1;33m)\u001b[0m\u001b[1;33m\u001b[0m\u001b[0m\n\u001b[0m",
      "\u001b[1;32mc:\\users\\aclark\\appdata\\local\\continuum\\anaconda2\\lib\\site-packages\\pandas\\core\\generic.pyc\u001b[0m in \u001b[0;36m__getattr__\u001b[1;34m(self, name)\u001b[0m\n\u001b[0;32m   2667\u001b[0m             \u001b[1;32mif\u001b[0m \u001b[0mname\u001b[0m \u001b[1;32min\u001b[0m \u001b[0mself\u001b[0m\u001b[1;33m.\u001b[0m\u001b[0m_info_axis\u001b[0m\u001b[1;33m:\u001b[0m\u001b[1;33m\u001b[0m\u001b[0m\n\u001b[0;32m   2668\u001b[0m                 \u001b[1;32mreturn\u001b[0m \u001b[0mself\u001b[0m\u001b[1;33m[\u001b[0m\u001b[0mname\u001b[0m\u001b[1;33m]\u001b[0m\u001b[1;33m\u001b[0m\u001b[0m\n\u001b[1;32m-> 2669\u001b[1;33m             \u001b[1;32mreturn\u001b[0m \u001b[0mobject\u001b[0m\u001b[1;33m.\u001b[0m\u001b[0m__getattribute__\u001b[0m\u001b[1;33m(\u001b[0m\u001b[0mself\u001b[0m\u001b[1;33m,\u001b[0m \u001b[0mname\u001b[0m\u001b[1;33m)\u001b[0m\u001b[1;33m\u001b[0m\u001b[0m\n\u001b[0m\u001b[0;32m   2670\u001b[0m \u001b[1;33m\u001b[0m\u001b[0m\n\u001b[0;32m   2671\u001b[0m     \u001b[1;32mdef\u001b[0m \u001b[0m__setattr__\u001b[0m\u001b[1;33m(\u001b[0m\u001b[0mself\u001b[0m\u001b[1;33m,\u001b[0m \u001b[0mname\u001b[0m\u001b[1;33m,\u001b[0m \u001b[0mvalue\u001b[0m\u001b[1;33m)\u001b[0m\u001b[1;33m:\u001b[0m\u001b[1;33m\u001b[0m\u001b[0m\n",
      "\u001b[1;31mAttributeError\u001b[0m: 'DataFrame' object has no attribute '_Health'"
     ]
    }
   ],
   "source": [
    "# resonse variable of interest\n",
    "brfss._Health.head()"
   ]
  },
  {
   "cell_type": "code",
   "execution_count": 32,
   "metadata": {
    "collapsed": false
   },
   "outputs": [
    {
     "name": "stdout",
     "output_type": "stream",
     "text": [
      "sklearn.cross_validation.KFold(n=867987, n_folds=10, shuffle=False, random_state=None)\n"
     ]
    }
   ],
   "source": [
    "# Cross validate the data using K-fold\n",
    "\n",
    "#references: http://scikit-learn.org/stable/modules/generated/sklearn.cross_validation.KFold.html\n",
    "# https://github.com/eclarson/DataMiningNotebooks/blob/master/04.%20Logits%20and%20SVM.ipynb\n",
    "\n",
    "# import k-fold cross validation from scikit learn\n",
    "from sklearn.cross_validation import KFold\n",
    "\n",
    "if '_Health' in brfss:\n",
    "    y = brfss['_Health'].values # get the labels we want\n",
    "    del brfss['_Health'] # get rid of the class label\n",
    "    X = brfss.values # use everything else to predict!\n",
    "    \n",
    "    \n",
    "KFoldCrossObject = KFold(len(y), n_folds=10)\n",
    "\n",
    "print KFoldCrossObject"
   ]
  },
  {
   "cell_type": "code",
   "execution_count": 33,
   "metadata": {
    "collapsed": true
   },
   "outputs": [],
   "source": [
    "# do a grid search to optimize parameters \n",
    "from sklearn.linear_model import LogisticRegression\n",
    "from sklearn import metrics as mt"
   ]
  }
 ],
 "metadata": {
  "kernelspec": {
   "display_name": "Python 2",
   "language": "python",
   "name": "python2"
  },
  "language_info": {
   "codemirror_mode": {
    "name": "ipython",
    "version": 2
   },
   "file_extension": ".py",
   "mimetype": "text/x-python",
   "name": "python",
   "nbconvert_exporter": "python",
   "pygments_lexer": "ipython2",
   "version": "2.7.11"
  }
 },
 "nbformat": 4,
 "nbformat_minor": 0
}
