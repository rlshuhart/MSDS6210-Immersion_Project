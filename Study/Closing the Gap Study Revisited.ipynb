{
 "cells": [
  {
   "cell_type": "markdown",
   "metadata": {},
   "source": [
    "# Closing the Gap Study Revisited\n",
    "By: Andrew Clark, Rahn Lieberman, Ryan Shuhart, Thomas Rogers"
   ]
  },
  {
   "cell_type": "markdown",
   "metadata": {},
   "source": [
    "The below is from how the orginal studin in \"Closing the Gap: Reducing Racial and Ethnic Disparities\" was conducted:\n",
    "\n",
    "   This brief draws on the 2012–2013 Behavioral Risk Factor Surveillance System (BRFSS), an annual survey conducted by the Centers for Disease Control and Prevention in partnership with state governments. The surveys included landline and cellular telephone interviews with more than 400,000 adults age 18 and older across all 50 states. In performing our analysis, we combined two years of data to ensure an adequate sample size in each of the socioeconomic strata, including income, race and ethnicity, and insurance status. <font color=\"red\">We restricted our analysis to adults under age 65. </font>\n",
    "   BRFSS asks adults whether they did not visit a doctor when needed within the previous 12 months because of costs, and whether they have one or more than one person they think of as their personal doctor or health care provider.\n",
    "    Our analysis classifies respondents’ socioeconomic (SES) characteristics as follows:\n",
    "    \n",
    "    • Race/ethnicity: white (non-Hispanic), black (non-Hispanic), or Hispanic (any race).\n",
    "    • Income in three income groups:\n",
    "      1. Low income: below 200 percent of the federal poverty level (income in 2012 of less than $22,340 if single, or \n",
    "      less than $46,100 for a family of four).\n",
    "      2. Middle income: 200 percent to 399 percent of poverty (income in 2012 of $22,340 up to $44,680 if single, or \n",
    "      $46,100 to $92,200 for a family of four).\n",
    "      3. Higher income: 400 percent of poverty or higher (income in 2012 at or above $44,680 if single, or $92,200 for \n",
    "      a family of four).\n",
    "    • Insurance status: insured or not at the time of the questionnaire.\n",
    "    \n",
    "        Exhibit 2 reports unadjusted point estimates, stratified by race/ethnicity. Exhibits 3 and 4 report adjusted means, to account for differences in respondents’ age, sex, income, and health status. We adjusted estimates using survey-design adjusted logistic regressions in Stata (v.12.1).\n",
    "    \n",
    "        Unadjusted point estimates were still subject to uncertainty because of the sample design. Each estimate has survey design–adjusted 95 percent confidence intervals of about 1 to 2 percentage points. Statistical significance associated with SES-adjusted point estimates is noted in Exhibits 3 and 4."
   ]
  },
  {
   "cell_type": "markdown",
   "metadata": {},
   "source": [
    "## Identifying the Variables of Interest\n",
    "We are most interested to know how the variables in our dataset relate to self-reported health quality.\n",
    "\n",
    "We'll work to reduce the dataset and create an imputed variable from the self-reported measure of health.\n",
    "\n",
    "The question of interest is, \"Would You Say in General That Your Health is: (1) excellent, (2) very good, (3) good, (4) fair, (5) poor.\" Choices 7 and 9 were \"unsure\" and \"not asked\", respectively. This is in the GENHLTH variable.\n",
    "\n",
    "Response variables of interest:\n",
    "\n",
    "* _AGE80: Calculated continuous variable for imputed age, values above 80 are collapsed. Any respondent over 80 is included in the 80 year old bracket. \n",
    "* _INCOMG: Calculated variable for income categories. \n",
    "    (1) Less than \\$15,000, (2) \\$15,000-\\$24,999, (3) \\$25,000-\\$34,9999, (4) \\$35,000 - \\$49,999, (5) $50,000 or more (9) Don't Know\n",
    "* _SMOKER3:  Calculated variable for four-level smoker status:  (1)everyday smoker, (2) someday smoker, (3) former smoker, (4) non-smoker, (9) Don't Know\n"
   ]
  },
  {
   "cell_type": "markdown",
   "metadata": {},
   "source": [
    "'_IMPMRTL' - Imputed Marital Status (This value is the reported marital status or an imputed marital status, if the respondent refused to give a marital status. The value of the imputed marital status will be computed from the sample if the respondent refused to give a marital status.)"
   ]
  },
  {
   "cell_type": "code",
   "execution_count": 2,
   "metadata": {
    "collapsed": true
   },
   "outputs": [],
   "source": [
    "# Python Modules\n",
    "import pandas as pd"
   ]
  },
  {
   "cell_type": "code",
   "execution_count": 116,
   "metadata": {
    "collapsed": false
   },
   "outputs": [],
   "source": [
    "cols_to_read = ['_AGE65YR', 'GENHLTH', 'HLTHPLN1', 'PERSDOC2', 'MEDCOST', 'CHECKUP1', \n",
    "                'EXERANY2', 'SLEPTIM1', 'CVDINFR4', 'CVDCRHD4', 'CVDSTRK3', \n",
    "                'ASTHMA3', 'ASTHNOW', 'CHCSCNCR', 'CHCOCNCR', 'CHCCOPD1', \n",
    "                'HAVARTH3', 'ADDEPEV2', 'CHCKIDNY', 'LASTDEN3', 'RMVTETH3', \n",
    "                'USEEQUIP', 'BLIND', 'DECIDE', 'DIFFWALK', 'DIFFDRES', \n",
    "                'DIFFALON', 'SMOKE100', 'SMOKDAY2', 'STOPSMK2', 'LASTSMK2', \n",
    "                'USENOW3', '_IMPMRTL', '_INCOMG', 'INCOME2', '_IMPRACE']\n",
    "\n",
    "brfss = (pd.read_csv(\"..\\\\data\\\\LLCP2014XPT.txt\", sep=\"\\t\", encoding = \"ISO-8859-1\", usecols=cols_to_read)\n",
    "           .query(\"_AGE65YR == 1\") # Age 18 to 64 - Excludes 65 or older, refused, or missing\n",
    "           \n",
    "          \n",
    "#            .assign(_INC_LEVEL = lambda x: x['INCOME2'].apply({1:1,\n",
    "#                                                               2:1,\n",
    "#                                                               3:1,\n",
    "#                                                               4:1,\n",
    "#                                                               5:2,}) )\n",
    "        )\n",
    "\n",
    "# Reduce Ethnicity to White, Black, or Hispanic (ex. Asian 2%, American Indian/Alaskan Native 1.55%, other 2.8%)\n",
    "brfss = brfss[brfss['_IMPRACE'].isin([1,2,5])]\n",
    "# Has Health plan --Excludes 'Don't know', 'Not Sure', or 'Refused'. drops .6%\n",
    "brfss = brfss[brfss['HLTHPLN1'].isin([1,2])]"
   ]
  },
  {
   "cell_type": "code",
   "execution_count": 84,
   "metadata": {
    "collapsed": false
   },
   "outputs": [
    {
     "data": {
      "text/plain": [
       "302345"
      ]
     },
     "execution_count": 84,
     "metadata": {},
     "output_type": "execute_result"
    }
   ],
   "source": [
    "# drop Missing Marital and refused to answer\n",
    "len(brfss[~((brfss['MARITAL'].isnull()) | (brfss['MARITAL']==9))])\n",
    "\n",
    "# drop "
   ]
  },
  {
   "cell_type": "code",
   "execution_count": 102,
   "metadata": {
    "collapsed": false
   },
   "outputs": [],
   "source": [
    "# brfss['_INC_LEVEL']=0\n",
    "# # income in 2012 of less than $22,340 if single, or less than $46,100 for a family of four\n",
    "# brfss.loc[((brfss['INCOME2'].isin([1,2,3,4])) & (brfss['_IMPMRTL'] != 1)), '_INC_LEVEL'] = 1\n",
    "# brfss.loc[((brfss['INCOME2'].isin([1,2,3,4,5,6])) & (brfss['_IMPMRTL'] == 1)), '_INC_LEVEL'] = 1\n",
    "\n",
    "# # income in 2012 of $22,340 up to $44,680 if single, or  $46,100 to $92,200 for a family of four\n",
    "# brfss.loc[((brfss['INCOME2'].isin([5,6])) & (brfss['_IMPMRTL'] != 1)), '_INC_LEVEL'] = 2\n",
    "# brfss.loc[((brfss['INCOME2'].isin([7,8])) & (brfss['_IMPMRTL'] != 1)), '_INC_LEVEL'] = 2\n",
    "\n",
    "# # income in 2012 at or above $44,680 if single, or $92,200 for a family of four\n",
    "# brfss.loc[((brfss['INCOME2'].isin([7,8])) & (brfss['_IMPMRTL'] != 1)), '_INC_LEVEL'] = 3"
   ]
  },
  {
   "cell_type": "code",
   "execution_count": 118,
   "metadata": {
    "collapsed": false
   },
   "outputs": [],
   "source": [
    "from sklearn import preprocessing\n",
    "lb = preprocessing.LabelBinarizer()"
   ]
  },
  {
   "cell_type": "code",
   "execution_count": null,
   "metadata": {
    "collapsed": false
   },
   "outputs": [],
   "source": []
  },
  {
   "cell_type": "code",
   "execution_count": 115,
   "metadata": {
    "collapsed": false
   },
   "outputs": [
    {
     "name": "stdout",
     "output_type": "stream",
     "text": [
      "<class 'pandas.core.frame.DataFrame'>\n",
      "Int64Index: 277159 entries, 2 to 464663\n",
      "Data columns (total 36 columns):\n",
      "GENHLTH     277158 non-null float64\n",
      "HLTHPLN1    277159 non-null int64\n",
      "PERSDOC2    277158 non-null float64\n",
      "MEDCOST     277158 non-null float64\n",
      "CHECKUP1    277158 non-null float64\n",
      "EXERANY2    277157 non-null float64\n",
      "SLEPTIM1    277159 non-null int64\n",
      "CVDINFR4    277159 non-null int64\n",
      "CVDCRHD4    277159 non-null int64\n",
      "CVDSTRK3    277159 non-null int64\n",
      "ASTHMA3     277159 non-null int64\n",
      "ASTHNOW     38772 non-null float64\n",
      "CHCSCNCR    277158 non-null float64\n",
      "CHCOCNCR    277159 non-null float64\n",
      "CHCCOPD1    277155 non-null float64\n",
      "HAVARTH3    277158 non-null float64\n",
      "ADDEPEV2    277158 non-null float64\n",
      "CHCKIDNY    277158 non-null float64\n",
      "LASTDEN3    277159 non-null int64\n",
      "RMVTETH3    277159 non-null int64\n",
      "INCOME2     274568 non-null float64\n",
      "USEEQUIP    268662 non-null float64\n",
      "BLIND       268246 non-null float64\n",
      "DECIDE      267917 non-null float64\n",
      "DIFFWALK    267659 non-null float64\n",
      "DIFFDRES    267493 non-null float64\n",
      "DIFFALON    267245 non-null float64\n",
      "SMOKE100    266895 non-null float64\n",
      "SMOKDAY2    109577 non-null float64\n",
      "STOPSMK2    48218 non-null float64\n",
      "LASTSMK2    61058 non-null float64\n",
      "USENOW3     266662 non-null float64\n",
      "_IMPRACE    277159 non-null int64\n",
      "_AGE65YR    277159 non-null int64\n",
      "_INCOMG     277159 non-null int64\n",
      "_IMPMRTL    277159 non-null int64\n",
      "dtypes: float64(24), int64(12)\n",
      "memory usage: 78.2 MB\n"
     ]
    }
   ],
   "source": [
    "brfss.info()"
   ]
  }
 ],
 "metadata": {
  "kernelspec": {
   "display_name": "Python 3",
   "language": "python",
   "name": "python3"
  },
  "language_info": {
   "codemirror_mode": {
    "name": "ipython",
    "version": 3
   },
   "file_extension": ".py",
   "mimetype": "text/x-python",
   "name": "python",
   "nbconvert_exporter": "python",
   "pygments_lexer": "ipython3",
   "version": "3.5.1"
  }
 },
 "nbformat": 4,
 "nbformat_minor": 0
}
