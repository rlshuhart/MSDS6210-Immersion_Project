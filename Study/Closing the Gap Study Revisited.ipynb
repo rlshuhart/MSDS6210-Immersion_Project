{
 "cells": [
  {
   "cell_type": "markdown",
   "metadata": {},
   "source": [
    "# Closing the Gap Study Revisited\n",
    "By: Andrew Clark, Rahn Lieberman, Ryan Shuhart, Thomas Rogers"
   ]
  },
  {
   "cell_type": "markdown",
   "metadata": {},
   "source": [
    "The below is from how the orginal study in \"Closing the Gap: Reducing Racial and Ethnic Disparities\" was conducted:\n",
    "\n",
    "   This brief draws on the 2012–2013 Behavioral Risk Factor Surveillance System (BRFSS), an annual survey conducted by the Centers for Disease Control and Prevention in partnership with state governments. The surveys included landline and cellular telephone interviews with more than 400,000 adults age 18 and older across all 50 states. In performing our analysis, we combined two years of data to ensure an adequate sample size in each of the socioeconomic strata, including income, race and ethnicity, and insurance status. <font color=\"red\">We restricted our analysis to adults under age 65. </font>\n",
    "   BRFSS asks adults whether they did not visit a doctor when needed within the previous 12 months because of costs, and whether they have one or more than one person they think of as their personal doctor or health care provider.\n",
    "    Our analysis classifies respondents’ socioeconomic (SES) characteristics as follows:\n",
    "    \n",
    "    • Race/ethnicity: white (non-Hispanic), black (non-Hispanic), or Hispanic (any race).\n",
    "    • Income in three income groups:\n",
    "      1. Low income: below 200 percent of the federal poverty level (income in 2012 of less than $22,340 if single, or \n",
    "      less than $46,100 for a family of four).\n",
    "      2. Middle income: 200 percent to 399 percent of poverty (income in 2012 of $22,340 up to $44,680 if single, or \n",
    "      $46,100 to $92,200 for a family of four).\n",
    "      3. Higher income: 400 percent of poverty or higher (income in 2012 at or above $44,680 if single, or $92,200 for \n",
    "      a family of four).\n",
    "    • Insurance status: insured or not at the time of the questionnaire.\n",
    "    \n",
    "        Exhibit 2 reports unadjusted point estimates, stratified by race/ethnicity. Exhibits 3 and 4 report adjusted means, to account for differences in respondents’ age, sex, income, and health status. We adjusted estimates using survey-design adjusted logistic regressions in Stata (v.12.1).\n",
    "    \n",
    "        Unadjusted point estimates were still subject to uncertainty because of the sample design. Each estimate has survey design–adjusted 95 percent confidence intervals of about 1 to 2 percentage points. Statistical significance associated with SES-adjusted point estimates is noted in Exhibits 3 and 4."
   ]
  },
  {
   "cell_type": "markdown",
   "metadata": {},
   "source": [
    "## Question of Interest\n",
    "\"Would You Say in General That Your Health is: (1) excellent, (2) very good, (3) good, (4) fair, (5) poor.\" Choices 7 and 9 were \"unsure\" and \"not asked\", respectively. This is in the GENHLTH variable."
   ]
  },
  {
   "cell_type": "code",
   "execution_count": 1,
   "metadata": {
    "collapsed": true
   },
   "outputs": [],
   "source": [
    "# Python Modules\n",
    "import pandas as pd\n",
    "import numpy as np\n",
    "import matplotlib.pyplot as plt\n",
    "import seaborn as sns\n",
    "\n",
    "# plot graphs in the notebook\n",
    "\n",
    "%matplotlib inline"
   ]
  },
  {
   "cell_type": "code",
   "execution_count": 2,
   "metadata": {
    "collapsed": false
   },
   "outputs": [
    {
     "name": "stdout",
     "output_type": "stream",
     "text": [
      "Starting length is 1432124 \n",
      "<class 'pandas.core.frame.DataFrame'>\n",
      "Int64Index: 867987 entries, 0 to 1432123\n",
      "Data columns (total 44 columns):\n",
      "SEQNO       867987 non-null float64\n",
      "_INCOMG     867987 non-null float64\n",
      "_IMPRACE    867987 non-null float64\n",
      "_AGE65YR    867987 non-null float64\n",
      "_AGE_G      867987 non-null float64\n",
      "GENHLTH     867987 non-null float64\n",
      "PHYSHLTH    867981 non-null float64\n",
      "MENTHLTH    867981 non-null float64\n",
      "HLTHPLN1    867987 non-null float64\n",
      "PERSDOC2    867986 non-null float64\n",
      "MEDCOST     867984 non-null float64\n",
      "VETERAN3    867407 non-null float64\n",
      "MARITAL     866953 non-null float64\n",
      "EDUCA       866406 non-null float64\n",
      "CHECKUP1    867985 non-null float64\n",
      "INCOME2     864423 non-null float64\n",
      "SEX         867987 non-null float64\n",
      "SMOKDAY2    359144 non-null float64\n",
      "AVEDRNK2    464822 non-null float64\n",
      "RRCLASS2    32989 non-null float64\n",
      "RRATWRK2    24131 non-null float64\n",
      "RRHCARE3    32917 non-null float64\n",
      "RRPHYSM2    32889 non-null float64\n",
      "RREMTSM2    32873 non-null float64\n",
      "EXERANY2    848814 non-null float64\n",
      "CVDINFR4    867985 non-null float64\n",
      "CVDCRHD4    867987 non-null float64\n",
      "CVDSTRK3    867987 non-null float64\n",
      "SCNTPAID    53555 non-null float64\n",
      "ASTHMA3     867987 non-null float64\n",
      "ASTHNOW     120875 non-null float64\n",
      "CHCSCNCR    867983 non-null float64\n",
      "CHCOCNCR    867987 non-null float64\n",
      "CHCCOPD1    867981 non-null float64\n",
      "HAVARTH3    867984 non-null float64\n",
      "ADDEPEV2    867985 non-null float64\n",
      "CHCKIDNY    867983 non-null float64\n",
      "USEEQUIP    851069 non-null float64\n",
      "SMOKE100    847083 non-null float64\n",
      "STOPSMK2    161152 non-null float64\n",
      "LASTSMK2    197171 non-null float64\n",
      "USENOW3     846261 non-null float64\n",
      "_Health     867987 non-null float64\n",
      "Rec_Year    867987 non-null int64\n",
      "dtypes: float64(43), int64(1)\n",
      "memory usage: 298.0 MB\n"
     ]
    }
   ],
   "source": [
    "# Ryan import\n",
    "#brfss = pd.read_csv('.\\\\data\\\\brfss2012_2014.zip', encoding = \"ISO-8859-1\", compression='zip')\n",
    "\n",
    "# Andrew work import:\n",
    "# brfss = pd.read_csv('C:\\\\Users\\\\aclark\\\\Desktop\\\\SMU\\\\MSDS6210-Immersion_Project\\\\Study\\\\data\\\\brfss2012_2014.csv', encoding = \"ISO-8859-1\")\n",
    "# Andrew home\n",
    "brfss = pd.read_csv('//Users//andrewclark//repos/MSDS6210-Immersion_Project//Study//data//brfss2012_2014.csv', encoding = \"ISO-8859-1\")\n",
    "print(\"Starting length is %.f \" % len(brfss))\n",
    "\n",
    "# Age 18 to 64 - Excludes 65 or older, refused, or missing\n",
    "brfss = brfss[brfss['_AGE65YR'] == 1] \n",
    "\n",
    "# Exclude blank, 'Don't know', 'Not Sure', or 'Refused'\n",
    "brfss = brfss[((brfss['GENHLTH'].notnull()) & (~brfss['GENHLTH'].isin([7,9])))] \n",
    "\n",
    "# Reduce Ethnicity to White, Black, or Hispanic (ex. Asian 2%, American Indian/Alaskan Native 1.55%, other 2.8%)\n",
    "brfss = brfss[brfss['_IMPRACE'].isin([1,2,5])]\n",
    "# Has Health plan --Excludes 'Don't know', 'Not Sure', or 'Refused'. drops .6%\n",
    "brfss = brfss[brfss['HLTHPLN1'].isin([1,2])]\n",
    "\n",
    "# Translate GENHLTH to binary classification of\n",
    "# Combining the “excellent”, “very good” and “good” responses as measures of “good or better” (1) health \n",
    "# and the “fair” and “poor” measures as “fair and poor” (0).\n",
    "brfss.loc[(brfss['GENHLTH'] < 4), '_Health'] = 1\n",
    "brfss.loc[(brfss['GENHLTH'] >= 4), '_Health'] = 0\n",
    "\n",
    "# Extract survey year from sequence. IYEAR sometimes went into the next year. \n",
    "# This is one way to put designate the year of the data publication\n",
    "brfss['Rec_Year'] = brfss['SEQNO'].astype(str).str[:4].astype(int)\n",
    "\n",
    "brfss.info()"
   ]
  },
  {
   "cell_type": "code",
   "execution_count": 39,
   "metadata": {
    "collapsed": false
   },
   "outputs": [],
   "source": [
    "# grouping race, health and year data into the same dataframe\n",
    "\n",
    "df_race_hlth_yr = brfss.groupby(['_IMPRACE', '_Health','Rec_Year'])\n",
    "df_race_yr = brfss.groupby(['_IMPRACE', 'Rec_Year'])\n",
    "\n",
    "df_yr_hlth_race = brfss.groupby(['Rec_Year', '_Health','_IMPRACE'])\n",
    "df_yr_race = brfss.groupby(['Rec_Year','_IMPRACE'])\n",
    "\n",
    "df_yr_race_hlth = brfss.groupby(['Rec_Year', '_IMPRACE', '_Health'])\n",
    "df_yr_hlth = brfss.groupby(['Rec_Year','_Health'])\n",
    "\n",
    "df_hlth_yr = brfss.groupby(['Rec_Year','_Health'])\n",
    "df_yr = brfss.groupby(['Rec_Year'])"
   ]
  },
  {
   "cell_type": "code",
   "execution_count": 40,
   "metadata": {
    "collapsed": false
   },
   "outputs": [
    {
     "data": {
      "text/plain": [
       "Rec_Year  _Health\n",
       "2012      0.0        0.2\n",
       "          1.0        0.8\n",
       "2013      0.0        0.2\n",
       "          1.0        0.8\n",
       "2014      0.0        0.2\n",
       "          1.0        0.8\n",
       "Name: Count, dtype: float64"
      ]
     },
     "execution_count": 40,
     "metadata": {},
     "output_type": "execute_result"
    }
   ],
   "source": [
    "#brfss.groupby(['Rec_Year','_Health']).size().unstack()\n",
    "# df_hlth_yr['Count'].last() / df_hlth_yr['Count'].sum()\n",
    "df_hlth_yr_grouped = pd.DataFrame({'Count':brfss.groupby(['Rec_Year','_Health']).size()}).reset_index()\n",
    "df_hlth_yr_counts = df_hlth_yr_grouped.groupby(['Rec_Year','_Health'])\n",
    "df_hlth_yr_totals = df_hlth_yr_grouped.groupby(['Rec_Year'])\n",
    "df_hlth_yr_counts['Count'].sum() / df_hlth_yr_totals['Count'].sum()"
   ]
  },
  {
   "cell_type": "code",
   "execution_count": 41,
   "metadata": {
    "collapsed": false
   },
   "outputs": [
    {
     "name": "stdout",
     "output_type": "stream",
     "text": [
      "    _IMPRACE  _Health  Rec_Year  Prop\n",
      "0        1.0      0.0      2012  14.3\n",
      "1        1.0      0.0      2013  14.4\n",
      "2        1.0      0.0      2014  14.0\n",
      "3        1.0      1.0      2012  85.7\n",
      "4        1.0      1.0      2013  85.6\n",
      "5        1.0      1.0      2014  86.0\n",
      "6        2.0      0.0      2012  23.9\n",
      "7        2.0      0.0      2013  23.7\n",
      "8        2.0      0.0      2014  22.7\n",
      "9        2.0      1.0      2012  76.1\n",
      "10       2.0      1.0      2013  76.3\n",
      "11       2.0      1.0      2014  77.3\n",
      "12       5.0      0.0      2012  26.1\n",
      "13       5.0      0.0      2013  25.5\n",
      "14       5.0      0.0      2014  25.1\n",
      "15       5.0      1.0      2012  73.9\n",
      "16       5.0      1.0      2013  74.5\n",
      "17       5.0      1.0      2014  74.9\n"
     ]
    },
    {
     "data": {
      "text/plain": [
       "<seaborn.axisgrid.FacetGrid at 0xe23c940>"
      ]
     },
     "execution_count": 41,
     "metadata": {},
     "output_type": "execute_result"
    },
    {
     "data": {
      "image/png": "[encoded data removed]",
      "text/plain": [
       "<matplotlib.figure.Figure at 0x10510a90>"
      ]
     },
     "metadata": {},
     "output_type": "display_data"
    }
   ],
   "source": [
    "x = pd.DataFrame({'Prop':((df_race_hlth_yr.size().unstack() / df_race_yr.size().unstack())*100).stack()}).reset_index()\n",
    "print(x)\n",
    "sns.factorplot(x=\"_IMPRACE\", y=\"Prop\", hue=\"_Health\", data=x[x['Rec_Year']==2014],\n",
    "                    size=6, kind=\"bar\", palette=\"muted\")"
   ]
  },
  {
   "cell_type": "code",
   "execution_count": 42,
   "metadata": {
    "collapsed": false
   },
   "outputs": [
    {
     "name": "stdout",
     "output_type": "stream",
     "text": [
      "Proportion of Uninsured to Insured by Race and Year\n",
      "_IMPRACE           1.0   2.0   5.0\n",
      "Rec_Year _Health                  \n",
      "2012     0.0      14.3  23.9  26.1\n",
      "         1.0      85.7  76.1  73.9\n",
      "2013     0.0      14.4  23.7  25.5\n",
      "         1.0      85.6  76.3  74.5\n",
      "2014     0.0      14.0  22.7  25.1\n",
      "         1.0      86.0  77.3  74.9\n"
     ]
    },
    {
     "data": {
      "text/plain": [
       "<matplotlib.axes._subplots.AxesSubplot at 0x2dd2c438>"
      ]
     },
     "execution_count": 42,
     "metadata": {},
     "output_type": "execute_result"
    },
    {
     "data": {
      "image/png": "[encoded data removed]",
      "text/plain": [
       "<matplotlib.figure.Figure at 0x28d0c0b8>"
      ]
     },
     "metadata": {},
     "output_type": "display_data"
    }
   ],
   "source": [
    "# Set option to show one decimal place\n",
    "pd.set_option('precision',1)\n",
    "print(\"Proportion of Uninsured to Insured by Race and Year\")\n",
    "yr_race_prop = (df_yr_hlth_race.size().unstack() / df_yr_race.size().unstack())*100#.transpose().plot()\n",
    "print(yr_race_prop)\n",
    "yr_race_prop.transpose().plot(kind='bar')"
   ]
  },
  {
   "cell_type": "code",
   "execution_count": 43,
   "metadata": {
    "collapsed": false
   },
   "outputs": [
    {
     "name": "stdout",
     "output_type": "stream",
     "text": [
      "Proportion of Uninsured to Insured by Race and Year\n",
      "_Health             0.0   1.0\n",
      "Rec_Year _IMPRACE            \n",
      "2012     1.0       69.6  82.0\n",
      "         2.0       14.7   9.2\n",
      "         5.0       15.7   8.8\n",
      "2013     1.0       70.6  82.3\n",
      "         2.0       13.8   8.7\n",
      "         5.0       15.7   9.0\n",
      "2014     1.0       70.6  82.3\n",
      "         2.0       13.0   8.4\n",
      "         5.0       16.4   9.3\n"
     ]
    },
    {
     "data": {
      "text/plain": [
       "<matplotlib.axes._subplots.AxesSubplot at 0x1a956e80>"
      ]
     },
     "execution_count": 43,
     "metadata": {},
     "output_type": "execute_result"
    },
    {
     "data": {
      "image/png": "[encoded data removed]",
      "text/plain": [
       "<matplotlib.figure.Figure at 0x1a949cc0>"
      ]
     },
     "metadata": {},
     "output_type": "display_data"
    }
   ],
   "source": [
    "# Set option to show one decimal place\n",
    "pd.set_option('precision',1)\n",
    "print(\"Proportion of Uninsured to Insured by Race and Year\")\n",
    "yr_race_prop = (df_yr_race_hlth.size().unstack() / df_yr_hlth.size().unstack())*100#.transpose().plot()\n",
    "print(yr_race_prop)\n",
    "yr_race_prop.transpose().plot(kind='bar')"
   ]
  },
  {
   "cell_type": "code",
   "execution_count": 44,
   "metadata": {
    "collapsed": false
   },
   "outputs": [
    {
     "data": {
      "text/html": [
       "<div>\n",
       "<table border=\"1\" class=\"dataframe\">\n",
       "  <thead>\n",
       "    <tr style=\"text-align: right;\">\n",
       "      <th></th>\n",
       "      <th>Rec_Year</th>\n",
       "      <th>2012</th>\n",
       "      <th>2013</th>\n",
       "      <th>2014</th>\n",
       "    </tr>\n",
       "    <tr>\n",
       "      <th>_IMPRACE</th>\n",
       "      <th>_Health</th>\n",
       "      <th></th>\n",
       "      <th></th>\n",
       "      <th></th>\n",
       "    </tr>\n",
       "  </thead>\n",
       "  <tbody>\n",
       "    <tr>\n",
       "      <th rowspan=\"2\" valign=\"top\">1.0</th>\n",
       "      <th>0.0</th>\n",
       "      <td>33583</td>\n",
       "      <td>34795</td>\n",
       "      <td>30904</td>\n",
       "    </tr>\n",
       "    <tr>\n",
       "      <th>1.0</th>\n",
       "      <td>200572</td>\n",
       "      <td>206364</td>\n",
       "      <td>190581</td>\n",
       "    </tr>\n",
       "    <tr>\n",
       "      <th rowspan=\"2\" valign=\"top\">2.0</th>\n",
       "      <th>0.0</th>\n",
       "      <td>7083</td>\n",
       "      <td>6784</td>\n",
       "      <td>5711</td>\n",
       "    </tr>\n",
       "    <tr>\n",
       "      <th>1.0</th>\n",
       "      <td>22496</td>\n",
       "      <td>21831</td>\n",
       "      <td>19429</td>\n",
       "    </tr>\n",
       "    <tr>\n",
       "      <th rowspan=\"2\" valign=\"top\">5.0</th>\n",
       "      <th>0.0</th>\n",
       "      <td>7561</td>\n",
       "      <td>7718</td>\n",
       "      <td>7183</td>\n",
       "    </tr>\n",
       "    <tr>\n",
       "      <th>1.0</th>\n",
       "      <td>21418</td>\n",
       "      <td>22512</td>\n",
       "      <td>21462</td>\n",
       "    </tr>\n",
       "  </tbody>\n",
       "</table>\n",
       "</div>"
      ],
      "text/plain": [
       "Rec_Year            2012    2013    2014\n",
       "_IMPRACE _Health                        \n",
       "1.0      0.0       33583   34795   30904\n",
       "         1.0      200572  206364  190581\n",
       "2.0      0.0        7083    6784    5711\n",
       "         1.0       22496   21831   19429\n",
       "5.0      0.0        7561    7718    7183\n",
       "         1.0       21418   22512   21462"
      ]
     },
     "execution_count": 44,
     "metadata": {},
     "output_type": "execute_result"
    }
   ],
   "source": [
    "df_race_hlth_yr.size().unstack()"
   ]
  },
  {
   "cell_type": "code",
   "execution_count": 45,
   "metadata": {
    "collapsed": false
   },
   "outputs": [
    {
     "data": {
      "text/html": [
       "<div>\n",
       "<table border=\"1\" class=\"dataframe\">\n",
       "  <thead>\n",
       "    <tr style=\"text-align: right;\">\n",
       "      <th>Rec_Year</th>\n",
       "      <th>2012</th>\n",
       "      <th>2013</th>\n",
       "      <th>2014</th>\n",
       "    </tr>\n",
       "    <tr>\n",
       "      <th>_Health</th>\n",
       "      <th></th>\n",
       "      <th></th>\n",
       "      <th></th>\n",
       "    </tr>\n",
       "  </thead>\n",
       "  <tbody>\n",
       "    <tr>\n",
       "      <th>0.0</th>\n",
       "      <td>48227</td>\n",
       "      <td>49297</td>\n",
       "      <td>43798</td>\n",
       "    </tr>\n",
       "    <tr>\n",
       "      <th>1.0</th>\n",
       "      <td>244486</td>\n",
       "      <td>250707</td>\n",
       "      <td>231472</td>\n",
       "    </tr>\n",
       "  </tbody>\n",
       "</table>\n",
       "</div>"
      ],
      "text/plain": [
       "Rec_Year    2012    2013    2014\n",
       "_Health                         \n",
       "0.0        48227   49297   43798\n",
       "1.0       244486  250707  231472"
      ]
     },
     "execution_count": 45,
     "metadata": {},
     "output_type": "execute_result"
    }
   ],
   "source": [
    "brfss.groupby(['_Health','Rec_Year']).size().unstack()"
   ]
  },
  {
   "cell_type": "code",
   "execution_count": 46,
   "metadata": {
    "collapsed": false
   },
   "outputs": [
    {
     "data": {
      "text/html": [
       "<div>\n",
       "<table border=\"1\" class=\"dataframe\">\n",
       "  <thead>\n",
       "    <tr style=\"text-align: right;\">\n",
       "      <th>Rec_Year</th>\n",
       "      <th>2012</th>\n",
       "      <th>2013</th>\n",
       "      <th>2014</th>\n",
       "    </tr>\n",
       "    <tr>\n",
       "      <th>_IMPRACE</th>\n",
       "      <th></th>\n",
       "      <th></th>\n",
       "      <th></th>\n",
       "    </tr>\n",
       "  </thead>\n",
       "  <tbody>\n",
       "    <tr>\n",
       "      <th>1.0</th>\n",
       "      <td>234155</td>\n",
       "      <td>241159</td>\n",
       "      <td>221485</td>\n",
       "    </tr>\n",
       "    <tr>\n",
       "      <th>2.0</th>\n",
       "      <td>29579</td>\n",
       "      <td>28615</td>\n",
       "      <td>25140</td>\n",
       "    </tr>\n",
       "    <tr>\n",
       "      <th>5.0</th>\n",
       "      <td>28979</td>\n",
       "      <td>30230</td>\n",
       "      <td>28645</td>\n",
       "    </tr>\n",
       "  </tbody>\n",
       "</table>\n",
       "</div>"
      ],
      "text/plain": [
       "Rec_Year    2012    2013    2014\n",
       "_IMPRACE                        \n",
       "1.0       234155  241159  221485\n",
       "2.0        29579   28615   25140\n",
       "5.0        28979   30230   28645"
      ]
     },
     "execution_count": 46,
     "metadata": {},
     "output_type": "execute_result"
    }
   ],
   "source": [
    "brfss.groupby(['_IMPRACE','Rec_Year']).size().unstack()"
   ]
  },
  {
   "cell_type": "markdown",
   "metadata": {},
   "source": [
    "## Logistic Regression Model "
   ]
  },
  {
   "cell_type": "code",
   "execution_count": 47,
   "metadata": {
    "collapsed": false
   },
   "outputs": [
    {
     "data": {
      "text/plain": [
       "0    1.0\n",
       "1    1.0\n",
       "4    0.0\n",
       "5    1.0\n",
       "6    1.0\n",
       "Name: _Health, dtype: float64"
      ]
     },
     "execution_count": 47,
     "metadata": {},
     "output_type": "execute_result"
    }
   ],
   "source": [
    "# resonse variable of interest\n",
    "brfss._Health.head()"
   ]
  },
  {
   "cell_type": "code",
   "execution_count": 48,
   "metadata": {
    "collapsed": true
   },
   "outputs": [],
   "source": [
    "# subset all data that has the full number of values (867,987), sans the GENHLTH attribute since it is indicative\n",
    "# of _Health, our response variable and the SEQNO attribute since this is irrelevant and may add conflicting noise to our dataset\n",
    "logData = brfss[['_INCOMG','_IMPRACE','_AGE65YR','_AGE_G','HLTHPLN1','SEX','CVDCRHD4','CVDSTRK3','ASTHMA3','CHCOCNCR','_Health','Rec_Year']]"
   ]
  },
  {
   "cell_type": "code",
   "execution_count": 49,
   "metadata": {
    "collapsed": false
   },
   "outputs": [
    {
     "name": "stdout",
     "output_type": "stream",
     "text": [
      "sklearn.cross_validation.KFold(n=867987, n_folds=10, shuffle=False, random_state=None)\n"
     ]
    }
   ],
   "source": [
    "# Cross validate the data using K-fold\n",
    "\n",
    "#references: http://scikit-learn.org/stable/modules/generated/sklearn.cross_validation.KFold.html\n",
    "# https://github.com/eclarson/DataMiningNotebooks/blob/master/04.%20Logits%20and%20SVM.ipynb\n",
    "\n",
    "# import k-fold cross validation from scikit learn\n",
    "from sklearn.cross_validation import KFold\n",
    "\n",
    "if '_Health' in logData:\n",
    "    y = logData['_Health'].values # get the labels we want\n",
    "    del logData['_Health'] # get ride of the class label\n",
    "    X = logData.values # use everything else to predict!\n",
    "    \n",
    "    \n",
    "KFoldCrossObject = KFold(len(y), n_folds=10)\n",
    "\n"
   ]
  },
  {
   "cell_type": "code",
   "execution_count": 50,
   "metadata": {
    "collapsed": false
   },
   "outputs": [
    {
     "name": "stdout",
     "output_type": "stream",
     "text": [
      "[ 0.83362712  0.85146142  0.8391917   0.83127686  0.84320096  0.84591988\n",
      "  0.83406491  0.84528445  0.85762345  0.84072214]\n"
     ]
    }
   ],
   "source": [
    "# do a grid search to optimize parameters \n",
    "from sklearn.linear_model import LogisticRegression\n",
    "from sklearn import metrics as mt\n",
    "\n",
    "# create logistic regression object\n",
    "\n",
    "logReg = LogisticRegression(penalty='l2', C=1.0, class_weight=None, n_jobs=-1) #n_jobs -1 is used to utilize all cores\n",
    "\n",
    "\n",
    "from sklearn.cross_validation import cross_val_score\n",
    "accuracies = cross_val_score(logReg, X, y=y, cv=KFoldCrossObject) # this also can help with parallelism\n",
    "print(accuracies)"
   ]
  },
  {
   "cell_type": "code",
   "execution_count": 51,
   "metadata": {
    "collapsed": false
   },
   "outputs": [
    {
     "name": "stdout",
     "output_type": "stream",
     "text": [
      "('accuracy:', 0.8407912624714855)\n",
      "[[  996 13359]\n",
      " [  460 71983]]\n",
      "(u'_AGE65YR', 'has weight of', 0.0)\n",
      "(u'SEX', 'has weight of', -0.0080390242646689366)\n",
      "('Rec_Year', 'has weight of', 0.011691446326233437)\n",
      "(u'CVDCRHD4', 'has weight of', 0.043670348404321449)\n",
      "(u'HLTHPLN1', 'has weight of', -0.13040110843178271)\n",
      "(u'CHCOCNCR', 'has weight of', 0.14647998918678468)\n",
      "(u'CVDSTRK3', 'has weight of', 0.1638975080464587)\n",
      "(u'_IMPRACE', 'has weight of', -0.22591770094545524)\n",
      "(u'ASTHMA3', 'has weight of', 0.31320924956072843)\n",
      "(u'_AGE_G', 'has weight of', -0.48656284058407956)\n",
      "(u'_INCOMG', 'has weight of', 0.50407336940160019)\n"
     ]
    }
   ],
   "source": [
    "# https://github.com/aclarkData/DataMiningNotebooks/blob/master/04.%20Logits%20and%20SVM.ipynb\n",
    "\n",
    "\n",
    "from sklearn.preprocessing import StandardScaler\n",
    "\n",
    "for train_indices, test_indices in KFoldCrossObject: \n",
    "    X_train = X[train_indices]\n",
    "    y_train = y[train_indices]\n",
    "    \n",
    "    X_test = X[test_indices]\n",
    "    y_test = y[test_indices]\n",
    "\n",
    "# scale attributes by the training set\n",
    "scale = StandardScaler()\n",
    "scale.fit(X_train) # find scalings for each column that make this zero mean and unit std\n",
    "\n",
    "\n",
    "X_train_scaled = scale.transform(X_train) # apply to training\n",
    "X_test_scaled = scale.transform(X_test) # apply those means and std to the test set (without snooping at the test set values)\n",
    "\n",
    "# train the model just as before\n",
    "logReg = LogisticRegression(penalty='l2', C=0.05, n_jobs=-1) \n",
    "logReg.fit(X_train_scaled,y_train)  # train object\n",
    "\n",
    "y_hat = logReg.predict(X_test_scaled) # get test set precitions\n",
    "\n",
    "acc = mt.accuracy_score(y_test,y_hat)\n",
    "conf = mt.confusion_matrix(y_test,y_hat)\n",
    "print('accuracy:', acc )\n",
    "print(conf )\n",
    "\n",
    "# sort these attributes and spit them out\n",
    "zip_vars = zip(logReg.coef_.T,logData.columns) # combine attributes\n",
    "zip_vars.sort(key = lambda t: np.abs(t[0])) # sort them by the magnitude of the weight\n",
    "for coef, name in zip_vars:\n",
    "    print(name, 'has weight of', coef[0]) # now print them out"
   ]
  },
  {
   "cell_type": "code",
   "execution_count": 52,
   "metadata": {
    "collapsed": false
   },
   "outputs": [
    {
     "data": {
      "text/plain": [
       "{'C': 0.05, 'penalty': 'l2'}"
      ]
     },
     "execution_count": 52,
     "metadata": {},
     "output_type": "execute_result"
    }
   ],
   "source": [
    "#http://scikit-learn.org/stable/modules/generated/sklearn.grid_search.GridSearchCV.html\n",
    "\n",
    "from sklearn import grid_search\n",
    "parameters = {'penalty':('l1', 'l2'), 'C':[0.05, 5]}\n",
    "svr = LogisticRegression()\n",
    "clf = grid_search.GridSearchCV(svr, parameters)\n",
    "clf.fit(X_train_scaled, y_train)\n",
    "\n",
    "# print out the best parameters\n",
    "clf.best_params_"
   ]
  },
  {
   "cell_type": "code",
   "execution_count": 53,
   "metadata": {
    "collapsed": false
   },
   "outputs": [
    {
     "data": {
      "image/png": "[encoded data removed]",
      "text/plain": [
       "<matplotlib.figure.Figure at 0xe23c908>"
      ]
     },
     "metadata": {},
     "output_type": "display_data"
    }
   ],
   "source": [
    "weights = pd.Series(logReg.coef_[0],index=logData.columns)\n",
    "weights.plot(kind='bar')\n",
    "plt.show()"
   ]
  },
  {
   "cell_type": "markdown",
   "metadata": {},
   "source": [
    "## Summary:\n",
    "\n",
    "We receive a 84% accuracy of predicting if someone is in good or bad health by looking as an individual's race, income, if they ahve a health plan, and age. We notice that income is the post important feature, NOT an individual's ethinicity or if they have health insurance."
   ]
  },
  {
   "cell_type": "markdown",
   "metadata": {},
   "source": [
    "## All variables\n",
    "The logistic function was rerun using all of the attributes besides 'GENHLTH' and 'SEGNO'. "
   ]
  },
  {
   "cell_type": "code",
   "execution_count": 3,
   "metadata": {
    "collapsed": false
   },
   "outputs": [
    {
     "name": "stdout",
     "output_type": "stream",
     "text": [
      "sklearn.cross_validation.KFold(n=867987, n_folds=10, shuffle=False, random_state=None)\n"
     ]
    }
   ],
   "source": [
    "# rerun with all variables, filling NaN values with zero\n",
    "brfss = brfss.fillna(value=0)\n",
    "\n",
    "# remove the sequential attribute, 'SEGNO', and the 'GENHLTH' attribute were the response variable was derived from.\n",
    "del brfss['GENHLTH']\n",
    "del brfss['SEQNO']\n",
    "\n",
    "# Cross validate the data using K-fold\n",
    "\n",
    "#references: http://scikit-learn.org/stable/modules/generated/sklearn.cross_validation.KFold.html\n",
    "# https://github.com/eclarson/DataMiningNotebooks/blob/master/04.%20Logits%20and%20SVM.ipynb\n",
    "\n",
    "# import k-fold cross validation from scikit learn\n",
    "from sklearn.cross_validation import KFold\n",
    "\n",
    "if '_Health' in brfss:\n",
    "    y = brfss['_Health'].values # get the labels we want\n",
    "    del brfss['_Health'] # get ride of the class label\n",
    "    X = brfss.values # use everything else to predict!\n",
    "    \n",
    "    \n",
    "KFoldCrossObject = KFold(len(y), n_folds=10)\n"
   ]
  },
  {
   "cell_type": "code",
   "execution_count": 6,
   "metadata": {
    "collapsed": false
   },
   "outputs": [
    {
     "name": "stdout",
     "output_type": "stream",
     "text": [
      "('accuracy:', 0.87030807161455337)\n",
      "[[ 5501  8854]\n",
      " [ 2403 70040]]\n",
      "(u'_AGE65YR', 'has weight of', 0.0)\n",
      "(u'RRPHYSM2', 'has weight of', 0.0015110448759930255)\n",
      "(u'RREMTSM2', 'has weight of', -0.0062109724574422216)\n",
      "(u'HLTHPLN1', 'has weight of', 0.0095373566477593777)\n",
      "(u'AVEDRNK2', 'has weight of', 0.0098299243460337055)\n",
      "(u'LASTSMK2', 'has weight of', 0.010133276092625246)\n",
      "(u'RRCLASS2', 'has weight of', -0.010551998823381446)\n",
      "(u'CHECKUP1', 'has weight of', 0.013075632149809563)\n",
      "(u'PERSDOC2', 'has weight of', 0.013475955484365119)\n",
      "('Rec_Year', 'has weight of', 0.014874896063163612)\n",
      "(u'VETERAN3', 'has weight of', 0.01532445653419044)\n",
      "(u'CVDCRHD4', 'has weight of', 0.016435728941263911)\n",
      "(u'CHCSCNCR', 'has weight of', -0.019835616529322767)\n",
      "(u'RRHCARE3', 'has weight of', -0.021140439616377675)\n",
      "(u'CHCKIDNY', 'has weight of', 0.0300822843279136)\n",
      "(u'CVDSTRK3', 'has weight of', 0.043619927439465939)\n",
      "(u'USENOW3', 'has weight of', -0.04734680860919032)\n",
      "(u'ASTHMA3', 'has weight of', 0.051935830035260457)\n",
      "(u'MARITAL', 'has weight of', -0.054434459874160811)\n",
      "(u'SCNTPAID', 'has weight of', 0.060631210752951505)\n",
      "(u'CVDINFR4', 'has weight of', 0.06349908646565057)\n",
      "(u'SMOKE100', 'has weight of', -0.070763934899182188)\n",
      "(u'RRATWRK2', 'has weight of', 0.076296757541253563)\n",
      "(u'ASTHNOW', 'has weight of', -0.077664085959491938)\n",
      "(u'CHCOCNCR', 'has weight of', 0.096154627663450357)\n",
      "(u'SEX', 'has weight of', 0.10542026776162142)\n",
      "(u'CHCCOPD1', 'has weight of', 0.10835435312773473)\n",
      "(u'STOPSMK2', 'has weight of', -0.1267223507276673)\n",
      "(u'SMOKDAY2', 'has weight of', -0.12878470045915652)\n",
      "(u'MEDCOST', 'has weight of', 0.19727901491061864)\n",
      "(u'_IMPRACE', 'has weight of', -0.19815713807923904)\n",
      "(u'ADDEPEV2', 'has weight of', 0.20245939380404332)\n",
      "(u'MENTHLTH', 'has weight of', 0.20337519373340568)\n",
      "(u'EXERANY2', 'has weight of', -0.2296942675255762)\n",
      "(u'HAVARTH3', 'has weight of', 0.27015672314115335)\n",
      "(u'USEEQUIP', 'has weight of', 0.38631736855300125)\n",
      "(u'_AGE_G', 'has weight of', -0.40617530046639005)\n",
      "(u'EDUCA', 'has weight of', 0.4137864542495262)\n",
      "(u'PHYSHLTH', 'has weight of', 0.59973774546869896)\n",
      "(u'INCOME2', 'has weight of', -0.64257047147072588)\n",
      "(u'_INCOMG', 'has weight of', 0.71520225681088434)\n"
     ]
    }
   ],
   "source": [
    "# https://github.com/aclarkData/DataMiningNotebooks/blob/master/04.%20Logits%20and%20SVM.ipynb\n",
    "\n",
    "from sklearn.preprocessing import StandardScaler\n",
    "\n",
    "for train_indices, test_indices in KFoldCrossObject: \n",
    "    X_train = X[train_indices]\n",
    "    y_train = y[train_indices]\n",
    "    \n",
    "    X_test = X[test_indices]\n",
    "    y_test = y[test_indices]\n",
    "\n",
    "# scale attributes by the training set\n",
    "scale = StandardScaler()\n",
    "scale.fit(X_train) # find scalings for each column that make this zero mean and unit std\n",
    "\n",
    "\n",
    "X_train_scaled = scale.transform(X_train) # apply to training\n",
    "X_test_scaled = scale.transform(X_test) # apply those means and std to the test set (without snooping at the test set values)\n",
    "\n",
    "# train the model just as before\n",
    "logReg = LogisticRegression(penalty='l2', C=0.05, n_jobs=-1) \n",
    "logReg.fit(X_train_scaled,y_train)  # train object\n",
    "\n",
    "y_hat = logReg.predict(X_test_scaled) # get test set precitions\n",
    "\n",
    "acc = mt.accuracy_score(y_test,y_hat)\n",
    "conf = mt.confusion_matrix(y_test,y_hat)\n",
    "print('accuracy:', acc )\n",
    "print(conf )\n",
    "\n",
    "# sort these attributes and spit them out\n",
    "zip_vars = zip(logReg.coef_.T,brfss.columns) # combine attributes\n",
    "zip_vars.sort(key = lambda t: np.abs(t[0])) # sort them by the magnitude of the weight\n",
    "for coef, name in zip_vars:\n",
    "    print(name, 'has weight of', coef[0]) # now print them out"
   ]
  },
  {
   "cell_type": "code",
   "execution_count": 7,
   "metadata": {
    "collapsed": false
   },
   "outputs": [
    {
     "data": {
      "image/png": "[encoded data removed]",
      "text/plain": [
       "<matplotlib.figure.Figure at 0x1195de1d0>"
      ]
     },
     "metadata": {},
     "output_type": "display_data"
    }
   ],
   "source": [
    "plt.figure(figsize=[15,4])\n",
    "\n",
    "weights = pd.Series(logReg.coef_[0],index=brfss.columns)\n",
    "weights.plot(kind='bar')\n",
    "plt.show()"
   ]
  },
  {
   "cell_type": "markdown",
   "metadata": {},
   "source": [
    "## Summary Two\n",
    "By including all of the attributes, we increased the model accuracy to 87%.  "
   ]
  },
  {
   "cell_type": "markdown",
   "metadata": {},
   "source": [
    "## Linear Discriminant Analysis"
   ]
  },
  {
   "cell_type": "code",
   "execution_count": 8,
   "metadata": {
    "collapsed": false
   },
   "outputs": [
    {
     "name": "stderr",
     "output_type": "stream",
     "text": [
      "/Users/andrewclark/anaconda2/lib/python2.7/site-packages/sklearn/discriminant_analysis.py:387: UserWarning: Variables are collinear.\n",
      "  warnings.warn(\"Variables are collinear.\")\n"
     ]
    },
    {
     "name": "stdout",
     "output_type": "stream",
     "text": [
      "[ 0.86467586  0.87719905  0.87089713  0.8630399   0.87221051  0.87268287\n",
      "  0.86391548  0.87058458  0.880965    0.86945552]\n"
     ]
    }
   ],
   "source": [
    "# http://scikit-learn.org/stable/modules/generated/sklearn.discriminant_analysis.LinearDiscriminantAnalysis.html#sklearn.discriminant_analysis.LinearDiscriminantAnalysis\n",
    "\n",
    "from sklearn.discriminant_analysis import LinearDiscriminantAnalysis\n",
    "from sklearn import metrics as mt\n",
    "\n",
    "# create logistic regression object\n",
    "\n",
    "LDA = LinearDiscriminantAnalysis() \n",
    "\n",
    "from sklearn.cross_validation import cross_val_score\n",
    "accuracies = cross_val_score(LDA, X, y=y, cv=KFoldCrossObject) \n",
    "print(accuracies)"
   ]
  },
  {
   "cell_type": "code",
   "execution_count": 9,
   "metadata": {
    "collapsed": false
   },
   "outputs": [
    {
     "name": "stdout",
     "output_type": "stream",
     "text": [
      "('accuracy:', 0.86945551740823523)\n",
      "[[ 6182  8173]\n",
      " [ 3158 69285]]\n",
      "(u'_AGE65YR', 'has weight of', 4.0119558029873423e-16)\n",
      "(u'RRPHYSM2', 'has weight of', -0.0047815270066302916)\n",
      "(u'VETERAN3', 'has weight of', 0.0071999523422402439)\n",
      "(u'CVDCRHD4', 'has weight of', -0.0077938459235446763)\n",
      "(u'RREMTSM2', 'has weight of', -0.0081268830495873374)\n",
      "(u'CHCKIDNY', 'has weight of', -0.014226046566293997)\n",
      "(u'ASTHMA3', 'has weight of', 0.014480903481963157)\n",
      "('Rec_Year', 'has weight of', 0.015135616450866793)\n",
      "(u'RRCLASS2', 'has weight of', -0.015175579289716086)\n",
      "(u'LASTSMK2', 'has weight of', 0.020304617394492332)\n",
      "(u'AVEDRNK2', 'has weight of', 0.020913536675425948)\n",
      "(u'RRHCARE3', 'has weight of', -0.022329566822937717)\n",
      "(u'PERSDOC2', 'has weight of', 0.023428599815779542)\n",
      "(u'CHECKUP1', 'has weight of', 0.027434994468021313)\n",
      "(u'CVDSTRK3', 'has weight of', 0.029237694035338373)\n",
      "(u'MARITAL', 'has weight of', -0.035932081668817846)\n",
      "(u'USENOW3', 'has weight of', -0.040985220071642868)\n",
      "(u'HLTHPLN1', 'has weight of', 0.05756222573050946)\n",
      "(u'CHCOCNCR', 'has weight of', 0.067305096193181188)\n",
      "(u'SCNTPAID', 'has weight of', 0.068270591067292885)\n",
      "(u'CVDINFR4', 'has weight of', 0.071180279782635136)\n",
      "(u'SMOKE100', 'has weight of', -0.07991733740113155)\n",
      "(u'RRATWRK2', 'has weight of', 0.082694276217502291)\n",
      "(u'CHCSCNCR', 'has weight of', -0.088545235582960569)\n",
      "(u'SEX', 'has weight of', 0.10711114665878312)\n",
      "(u'SMOKDAY2', 'has weight of', -0.13290178824274229)\n",
      "(u'STOPSMK2', 'has weight of', -0.14504912604104722)\n",
      "(u'ASTHNOW', 'has weight of', -0.14666656853021864)\n",
      "(u'CHCCOPD1', 'has weight of', 0.17390634172524247)\n",
      "(u'_IMPRACE', 'has weight of', -0.21078700725619254)\n",
      "(u'ADDEPEV2', 'has weight of', 0.22689713487733454)\n",
      "(u'MENTHLTH', 'has weight of', 0.24610248324055539)\n",
      "(u'MEDCOST', 'has weight of', 0.25135534052203867)\n",
      "(u'HAVARTH3', 'has weight of', 0.29881542395749849)\n",
      "(u'EXERANY2', 'has weight of', -0.33286875285939277)\n",
      "(u'USEEQUIP', 'has weight of', 0.42693831468273213)\n",
      "(u'_AGE_G', 'has weight of', -0.44489149905676073)\n",
      "(u'EDUCA', 'has weight of', 0.45599751418438117)\n",
      "(u'PHYSHLTH', 'has weight of', 0.68534395957603089)\n",
      "(u'INCOME2', 'has weight of', -0.79383306213091631)\n",
      "(u'_INCOMG', 'has weight of', 0.96038379162776466)\n"
     ]
    }
   ],
   "source": [
    "# https://github.com/aclarkData/DataMiningNotebooks/blob/master/04.%20Logits%20and%20SVM.ipynb\n",
    "\n",
    "from sklearn.preprocessing import StandardScaler\n",
    "\n",
    "for train_indices, test_indices in KFoldCrossObject: \n",
    "    X_train = X[train_indices]\n",
    "    y_train = y[train_indices]\n",
    "    \n",
    "    X_test = X[test_indices]\n",
    "    y_test = y[test_indices]\n",
    "\n",
    "# scale attributes by the training set\n",
    "scale = StandardScaler()\n",
    "scale.fit(X_train) # find scalings for each column that make this zero mean and unit std\n",
    "\n",
    "\n",
    "X_train_scaled = scale.transform(X_train) # apply to training\n",
    "X_test_scaled = scale.transform(X_test) # apply those means and std to the test set (without snooping at the test set values)\n",
    "\n",
    "# train the model just as before\n",
    "LDA = LinearDiscriminantAnalysis() \n",
    "LDA.fit(X_train_scaled,y_train)  # train object\n",
    "\n",
    "y_hat = LDA.predict(X_test_scaled) # get test set precitions\n",
    "\n",
    "acc = mt.accuracy_score(y_test,y_hat)\n",
    "conf = mt.confusion_matrix(y_test,y_hat)\n",
    "print('accuracy:', acc )\n",
    "print(conf )\n",
    "\n",
    "# sort these attributes and spit them out\n",
    "zip_vars = zip(LDA.coef_.T,brfss.columns) # combine attributes\n",
    "zip_vars.sort(key = lambda t: np.abs(t[0])) # sort them by the magnitude of the weight\n",
    "for coef, name in zip_vars:\n",
    "    print(name, 'has weight of', coef[0]) # now print them out"
   ]
  },
  {
   "cell_type": "code",
   "execution_count": 14,
   "metadata": {
    "collapsed": false
   },
   "outputs": [
    {
     "data": {
      "text/plain": [
       "{'n_components': 0, 'solver': 'svd'}"
      ]
     },
     "execution_count": 14,
     "metadata": {},
     "output_type": "execute_result"
    }
   ],
   "source": [
    "#http://scikit-learn.org/stable/modules/generated/sklearn.grid_search.GridSearchCV.html\n",
    "\n",
    "from sklearn import grid_search\n",
    "parameters = {'solver':('svd', 'lsqr'), 'n_components':[0,-1]}\n",
    "LDA = LinearDiscriminantAnalysis() \n",
    "clf = grid_search.GridSearchCV(LDA, parameters)\n",
    "clf.fit(X_train_scaled, y_train)\n",
    "\n",
    "# print out the best parameters\n",
    "clf.best_params_"
   ]
  },
  {
   "cell_type": "code",
   "execution_count": 10,
   "metadata": {
    "collapsed": false
   },
   "outputs": [
    {
     "data": {
      "image/png": "[encoded data removed]",
      "text/plain": [
       "<matplotlib.figure.Figure at 0x11a41c490>"
      ]
     },
     "metadata": {},
     "output_type": "display_data"
    }
   ],
   "source": [
    "plt.figure(figsize=[15,4])\n",
    "\n",
    "weights = pd.Series(logReg.coef_[0],index=brfss.columns)\n",
    "weights.plot(kind='bar')\n",
    "plt.show()"
   ]
  },
  {
   "cell_type": "markdown",
   "metadata": {},
   "source": [
    "## Summary LDA:\n",
    "\n",
    "It is interesting to note that we received an almost identical reading to the logistic regression function with a 87% accuracy rate. "
   ]
  },
  {
   "cell_type": "markdown",
   "metadata": {},
   "source": [
    "Experiment with KNN? \n",
    "\n",
    "https://github.com/eclarson/DataMiningNotebooks/blob/master/06.%20Classification.ipynb"
   ]
  },
  {
   "cell_type": "code",
   "execution_count": null,
   "metadata": {
    "collapsed": true
   },
   "outputs": [],
   "source": []
  }
 ],
 "metadata": {
  "kernelspec": {
   "display_name": "Python 2",
   "language": "python",
   "name": "python2"
  },
  "language_info": {
   "codemirror_mode": {
    "name": "ipython",
    "version": 2
   },
   "file_extension": ".py",
   "mimetype": "text/x-python",
   "name": "python",
   "nbconvert_exporter": "python",
   "pygments_lexer": "ipython2",
   "version": "2.7.11"
  }
 },
 "nbformat": 4,
 "nbformat_minor": 0
}
