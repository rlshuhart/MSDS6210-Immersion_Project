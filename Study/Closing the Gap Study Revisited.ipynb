{
 "cells": [
  {
   "cell_type": "markdown",
   "metadata": {},
   "source": [
    "# Closing the Gap Study Revisited\n",
    "By: Andrew Clark, Rahn Lieberman, Ryan Shuhart, Thomas Rogers"
   ]
  },
  {
   "cell_type": "markdown",
   "metadata": {},
   "source": [
    "The below is from how the orginal study in \"Closing the Gap: Reducing Racial and Ethnic Disparities\" was conducted:\n",
    "\n",
    "   This brief draws on the 2012–2013 Behavioral Risk Factor Surveillance System (BRFSS), an annual survey conducted by the Centers for Disease Control and Prevention in partnership with state governments. The surveys included landline and cellular telephone interviews with more than 400,000 adults age 18 and older across all 50 states. In performing our analysis, we combined two years of data to ensure an adequate sample size in each of the socioeconomic strata, including income, race and ethnicity, and insurance status. <font color=\"red\">We restricted our analysis to adults under age 65. </font>\n",
    "   BRFSS asks adults whether they did not visit a doctor when needed within the previous 12 months because of costs, and whether they have one or more than one person they think of as their personal doctor or health care provider.\n",
    "    Our analysis classifies respondents’ socioeconomic (SES) characteristics as follows:\n",
    "    \n",
    "    • Race/ethnicity: white (non-Hispanic), black (non-Hispanic), or Hispanic (any race).\n",
    "    • Income in three income groups:\n",
    "      1. Low income: below 200 percent of the federal poverty level (income in 2012 of less than $22,340 if single, or \n",
    "      less than $46,100 for a family of four).\n",
    "      2. Middle income: 200 percent to 399 percent of poverty (income in 2012 of $22,340 up to $44,680 if single, or \n",
    "      $46,100 to $92,200 for a family of four).\n",
    "      3. Higher income: 400 percent of poverty or higher (income in 2012 at or above $44,680 if single, or $92,200 for \n",
    "      a family of four).\n",
    "    • Insurance status: insured or not at the time of the questionnaire.\n",
    "    \n",
    "        Exhibit 2 reports unadjusted point estimates, stratified by race/ethnicity. Exhibits 3 and 4 report adjusted means, to account for differences in respondents’ age, sex, income, and health status. We adjusted estimates using survey-design adjusted logistic regressions in Stata (v.12.1).\n",
    "    \n",
    "        Unadjusted point estimates were still subject to uncertainty because of the sample design. Each estimate has survey design–adjusted 95 percent confidence intervals of about 1 to 2 percentage points. Statistical significance associated with SES-adjusted point estimates is noted in Exhibits 3 and 4."
   ]
  },
  {
   "cell_type": "markdown",
   "metadata": {},
   "source": [
    "## Identifying the Variables of Interest\n",
    "We are most interested to know how the variables in our dataset relate to self-reported health quality.\n",
    "\n",
    "We'll work to reduce the dataset and create an imputed variable from the self-reported measure of health.\n",
    "\n",
    "The question of interest is, \"Would You Say in General That Your Health is: (1) excellent, (2) very good, (3) good, (4) fair, (5) poor.\" Choices 7 and 9 were \"unsure\" and \"not asked\", respectively. This is in the GENHLTH variable."
   ]
  },
  {
   "cell_type": "markdown",
   "metadata": {},
   "source": [
    "'_IMPMRTL' - Imputed Marital Status (This value is the reported marital status or an imputed marital status, if the respondent refused to give a marital status. The value of the imputed marital status will be computed from the sample if the respondent refused to give a marital status.)"
   ]
  },
  {
   "cell_type": "code",
   "execution_count": 169,
   "metadata": {
    "collapsed": true
   },
   "outputs": [],
   "source": [
    "# Python Modules\n",
    "import pandas as pd"
   ]
  },
  {
   "cell_type": "code",
   "execution_count": 177,
   "metadata": {
    "collapsed": false
   },
   "outputs": [
    {
     "name": "stdout",
     "output_type": "stream",
     "text": [
      "Starting lenght is:  464664\n",
      "<class 'pandas.core.frame.DataFrame'>\n",
      "Int64Index: 275270 entries, 2 to 464663\n",
      "Data columns (total 39 columns):\n",
      "IDATE       275270 non-null int64\n",
      "SEQNO       275270 non-null int64\n",
      "GENHLTH     275270 non-null float64\n",
      "HLTHPLN1    275270 non-null int64\n",
      "PERSDOC2    275269 non-null float64\n",
      "MEDCOST     275269 non-null float64\n",
      "CHECKUP1    275269 non-null float64\n",
      "EXERANY2    275268 non-null float64\n",
      "SLEPTIM1    275270 non-null int64\n",
      "CVDINFR4    275270 non-null int64\n",
      "CVDCRHD4    275270 non-null int64\n",
      "CVDSTRK3    275270 non-null int64\n",
      "ASTHMA3     275270 non-null int64\n",
      "ASTHNOW     38486 non-null float64\n",
      "CHCSCNCR    275269 non-null float64\n",
      "CHCOCNCR    275270 non-null float64\n",
      "CHCCOPD1    275266 non-null float64\n",
      "HAVARTH3    275269 non-null float64\n",
      "ADDEPEV2    275269 non-null float64\n",
      "CHCKIDNY    275269 non-null float64\n",
      "LASTDEN3    275270 non-null int64\n",
      "RMVTETH3    275270 non-null int64\n",
      "INCOME2     272707 non-null float64\n",
      "USEEQUIP    266888 non-null float64\n",
      "BLIND       266477 non-null float64\n",
      "DECIDE      266150 non-null float64\n",
      "DIFFWALK    265895 non-null float64\n",
      "DIFFDRES    265734 non-null float64\n",
      "DIFFALON    265486 non-null float64\n",
      "SMOKE100    265138 non-null float64\n",
      "SMOKDAY2    108913 non-null float64\n",
      "STOPSMK2    47868 non-null float64\n",
      "LASTSMK2    60750 non-null float64\n",
      "USENOW3     264907 non-null float64\n",
      "_IMPRACE    275270 non-null int64\n",
      "_AGE65YR    275270 non-null int64\n",
      "_INCOMG     275270 non-null int64\n",
      "_IMPMRTL    275270 non-null int64\n",
      "_Health     275270 non-null float64\n",
      "dtypes: float64(25), int64(14)\n",
      "memory usage: 84.0 MB\n"
     ]
    }
   ],
   "source": [
    "brfss = pd.read_csv('brfss2012_2014.zip', encoding = \"ISO-8859-1\", compression='zip')\n",
    "print(\"Starting lenght is: \", len(brfss))\n",
    "\n",
    "# Age 18 to 64 - Excludes 65 or older, refused, or missing\n",
    "brfss = brfss[brfss['_AGE65YR'] == 1] \n",
    "\n",
    "# Exclude blank, 'Don't know', 'Not Sure', or 'Refused'\n",
    "brfss = brfss[((brfss['GENHLTH'].notnull()) & (~brfss['GENHLTH'].isin([7,9])))] \n",
    "\n",
    "# Reduce Ethnicity to White, Black, or Hispanic (ex. Asian 2%, American Indian/Alaskan Native 1.55%, other 2.8%)\n",
    "brfss = brfss[brfss['_IMPRACE'].isin([1,2,5])]\n",
    "# Has Health plan --Excludes 'Don't know', 'Not Sure', or 'Refused'. drops .6%\n",
    "brfss = brfss[brfss['HLTHPLN1'].isin([1,2])]\n",
    "\n",
    "# Translate GENHLTH to binary classification of\n",
    "# Combining the “excellent”, “very good” and “good” responses as measures of “good or better” (1) health \n",
    "# and the “fair” and “poor” measures as “fair and poor” (0).\n",
    "brfss.loc[(brfss['GENHLTH'] < 4), '_Health'] = 1\n",
    "brfss.loc[(brfss['GENHLTH'] >= 4), '_Health'] = 0\n",
    "\n",
    "brfss.info()"
   ]
  },
  {
   "cell_type": "code",
   "execution_count": 84,
   "metadata": {
    "collapsed": false
   },
   "outputs": [
    {
     "data": {
      "text/plain": [
       "302345"
      ]
     },
     "execution_count": 84,
     "metadata": {},
     "output_type": "execute_result"
    }
   ],
   "source": [
    "# drop Missing Marital and refused to answer\n",
    "len(brfss[~((brfss['MARITAL'].isnull()) | (brfss['MARITAL']==9))])\n",
    "\n",
    "# drop "
   ]
  },
  {
   "cell_type": "code",
   "execution_count": 102,
   "metadata": {
    "collapsed": false
   },
   "outputs": [],
   "source": [
    "# brfss['_INC_LEVEL']=0\n",
    "# # income in 2012 of less than $22,340 if single, or less than $46,100 for a family of four\n",
    "# brfss.loc[((brfss['INCOME2'].isin([1,2,3,4])) & (brfss['_IMPMRTL'] != 1)), '_INC_LEVEL'] = 1\n",
    "# brfss.loc[((brfss['INCOME2'].isin([1,2,3,4,5,6])) & (brfss['_IMPMRTL'] == 1)), '_INC_LEVEL'] = 1\n",
    "\n",
    "# # income in 2012 of $22,340 up to $44,680 if single, or  $46,100 to $92,200 for a family of four\n",
    "# brfss.loc[((brfss['INCOME2'].isin([5,6])) & (brfss['_IMPMRTL'] != 1)), '_INC_LEVEL'] = 2\n",
    "# brfss.loc[((brfss['INCOME2'].isin([7,8])) & (brfss['_IMPMRTL'] != 1)), '_INC_LEVEL'] = 2\n",
    "\n",
    "# # income in 2012 at or above $44,680 if single, or $92,200 for a family of four\n",
    "# brfss.loc[((brfss['INCOME2'].isin([7,8])) & (brfss['_IMPMRTL'] != 1)), '_INC_LEVEL'] = 3"
   ]
  },
  {
   "cell_type": "code",
   "execution_count": 187,
   "metadata": {
    "collapsed": false
   },
   "outputs": [
    {
     "data": {
      "text/plain": [
       "21000"
      ]
     },
     "execution_count": 187,
     "metadata": {},
     "output_type": "execute_result"
    }
   ],
   "source": [
    "len(x)"
   ]
  },
  {
   "cell_type": "code",
   "execution_count": 183,
   "metadata": {
    "collapsed": false
   },
   "outputs": [],
   "source": []
  },
  {
   "cell_type": "code",
   "execution_count": 156,
   "metadata": {
    "collapsed": false
   },
   "outputs": [
    {
     "name": "stdout",
     "output_type": "stream",
     "text": [
      "<class 'pandas.core.frame.DataFrame'>\n",
      "Int64Index: 275270 entries, 2 to 464663\n",
      "Data columns (total 37 columns):\n",
      "GENHLTH     275270 non-null float64\n",
      "HLTHPLN1    275270 non-null int64\n",
      "PERSDOC2    275269 non-null float64\n",
      "MEDCOST     275269 non-null float64\n",
      "CHECKUP1    275269 non-null float64\n",
      "EXERANY2    275268 non-null float64\n",
      "SLEPTIM1    275270 non-null int64\n",
      "CVDINFR4    275270 non-null int64\n",
      "CVDCRHD4    275270 non-null int64\n",
      "CVDSTRK3    275270 non-null int64\n",
      "ASTHMA3     275270 non-null int64\n",
      "ASTHNOW     38486 non-null float64\n",
      "CHCSCNCR    275269 non-null float64\n",
      "CHCOCNCR    275270 non-null float64\n",
      "CHCCOPD1    275266 non-null float64\n",
      "HAVARTH3    275269 non-null float64\n",
      "ADDEPEV2    275269 non-null float64\n",
      "CHCKIDNY    275269 non-null float64\n",
      "LASTDEN3    275270 non-null int64\n",
      "RMVTETH3    275270 non-null int64\n",
      "INCOME2     272707 non-null float64\n",
      "USEEQUIP    266888 non-null float64\n",
      "BLIND       266477 non-null float64\n",
      "DECIDE      266150 non-null float64\n",
      "DIFFWALK    265895 non-null float64\n",
      "DIFFDRES    265734 non-null float64\n",
      "DIFFALON    265486 non-null float64\n",
      "SMOKE100    265138 non-null float64\n",
      "SMOKDAY2    108913 non-null float64\n",
      "STOPSMK2    47868 non-null float64\n",
      "LASTSMK2    60750 non-null float64\n",
      "USENOW3     264907 non-null float64\n",
      "_IMPRACE    275270 non-null int64\n",
      "_AGE65YR    275270 non-null int64\n",
      "_INCOMG     275270 non-null int64\n",
      "_IMPMRTL    275270 non-null int64\n",
      "_Health     231472 non-null float64\n",
      "dtypes: float64(25), int64(12)\n",
      "memory usage: 79.8 MB\n"
     ]
    }
   ],
   "source": [
    "brfss.info()"
   ]
  },
  {
   "cell_type": "code",
   "execution_count": null,
   "metadata": {
    "collapsed": false
   },
   "outputs": [],
   "source": []
  },
  {
   "cell_type": "code",
   "execution_count": null,
   "metadata": {
    "collapsed": false
   },
   "outputs": [],
   "source": []
  }
 ],
 "metadata": {
  "kernelspec": {
   "display_name": "Python 3",
   "language": "python",
   "name": "python3"
  },
  "language_info": {
   "codemirror_mode": {
    "name": "ipython",
    "version": 3
   },
   "file_extension": ".py",
   "mimetype": "text/x-python",
   "name": "python",
   "nbconvert_exporter": "python",
   "pygments_lexer": "ipython3",
   "version": "3.5.1"
  }
 },
 "nbformat": 4,
 "nbformat_minor": 0
}
